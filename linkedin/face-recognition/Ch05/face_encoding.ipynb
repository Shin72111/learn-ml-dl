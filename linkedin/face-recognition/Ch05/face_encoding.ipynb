{
  "nbformat": 4,
  "nbformat_minor": 0,
  "metadata": {
    "colab": {
      "name": "face-encoding.ipynb",
      "version": "0.3.2",
      "provenance": [],
      "include_colab_link": true
    },
    "kernelspec": {
      "name": "python3",
      "display_name": "Python 3"
    },
    "accelerator": "GPU"
  },
  "cells": [
    {
      "cell_type": "markdown",
      "metadata": {
        "id": "view-in-github",
        "colab_type": "text"
      },
      "source": [
        "<a href=\"https://colab.research.google.com/github/Shin72111/learn-ml-dl/blob/master/linkedin/face-recognition/Ch05/face_encoding.ipynb\" target=\"_parent\"><img src=\"https://colab.research.google.com/assets/colab-badge.svg\" alt=\"Open In Colab\"/></a>"
      ]
    },
    {
      "cell_type": "code",
      "metadata": {
        "id": "UKO53DcCRSrm",
        "colab_type": "code",
        "colab": {
          "base_uri": "https://localhost:8080/",
          "height": 211
        },
        "outputId": "633a3484-be45-4f0c-fa10-1477d6c60fdf"
      },
      "source": [
        "!pip install face_recognition_models"
      ],
      "execution_count": 3,
      "outputs": [
        {
          "output_type": "stream",
          "text": [
            "Collecting face_recognition_models\n",
            "\u001b[?25l  Downloading https://files.pythonhosted.org/packages/cf/3b/4fd8c534f6c0d1b80ce0973d01331525538045084c73c153ee6df20224cf/face_recognition_models-0.3.0.tar.gz (100.1MB)\n",
            "\u001b[K     |████████████████████████████████| 100.2MB 1.2MB/s \n",
            "\u001b[?25hBuilding wheels for collected packages: face-recognition-models\n",
            "  Building wheel for face-recognition-models (setup.py) ... \u001b[?25l\u001b[?25hdone\n",
            "  Created wheel for face-recognition-models: filename=face_recognition_models-0.3.0-py2.py3-none-any.whl size=100566176 sha256=4bc273552c2e67ff1f9c9be5ea7f858de745b827b523d462e7a9fd2d2f4d7fb4\n",
            "  Stored in directory: /root/.cache/pip/wheels/d2/99/18/59c6c8f01e39810415c0e63f5bede7d83dfb0ffc039865465f\n",
            "Successfully built face-recognition-models\n",
            "Installing collected packages: face-recognition-models\n",
            "Successfully installed face-recognition-models-0.3.0\n"
          ],
          "name": "stdout"
        }
      ]
    },
    {
      "cell_type": "code",
      "metadata": {
        "id": "fR_Fu3XuQiJI",
        "colab_type": "code",
        "colab": {}
      },
      "source": [
        "import face_recognition"
      ],
      "execution_count": 0,
      "outputs": []
    },
    {
      "cell_type": "code",
      "metadata": {
        "id": "tvxiJxjQNtkD",
        "colab_type": "code",
        "colab": {
          "base_uri": "https://localhost:8080/",
          "height": 399
        },
        "outputId": "b79eecda-dd2b-4ea5-8fd7-516d955970c0"
      },
      "source": [
        "# Load the jpg files into numpy arrays\n",
        "image = face_recognition.load_image_file('person.jpg')\n",
        "\n",
        "# Generate the face encodings\n",
        "face_encodings = face_recognition.face_encodings(image)\n",
        "\n",
        "if len(face_encodings) == 0:\n",
        "    # No faces found in the image.\n",
        "    print(\"No faces were found.\")\n",
        "\n",
        "else:\n",
        "    # Grab the first face encoding\n",
        "    first_face_encoding = face_encodings[0]\n",
        "\n",
        "    # Print the results\n",
        "    print(first_face_encoding)\n"
      ],
      "execution_count": 6,
      "outputs": [
        {
          "output_type": "stream",
          "text": [
            "[-0.20855851  0.01845224  0.05200066 -0.01912927 -0.02748835 -0.01855115\n",
            " -0.02725497 -0.0184503   0.19835585 -0.0112457   0.19645664  0.0160067\n",
            " -0.15621796 -0.08862408 -0.00915148  0.11604425 -0.12597211 -0.14229296\n",
            " -0.03572806 -0.03505833  0.03726118  0.03980888 -0.07782647  0.07926027\n",
            " -0.14744228 -0.3470616  -0.10856146 -0.12216781  0.01723715 -0.11650665\n",
            "  0.06511284 -0.03900211 -0.18297049 -0.10930697  0.06847559  0.12637652\n",
            " -0.05037969 -0.09572248  0.13429841 -0.00703449 -0.16005872 -0.05573067\n",
            "  0.08435321  0.27441847  0.13435344  0.08523722  0.00496128 -0.11246416\n",
            "  0.16313235 -0.27373844  0.08402453  0.10128954  0.15344827  0.10832103\n",
            "  0.11609219 -0.09201843  0.07474768  0.25488392 -0.30816695  0.10207553\n",
            "  0.00198595 -0.01495537  0.03411685 -0.02620055  0.21705674  0.14441346\n",
            " -0.11093327 -0.12751678  0.17208101 -0.16183111 -0.04968163  0.12839435\n",
            " -0.03207506 -0.26411176 -0.31615111  0.07128874  0.36263996  0.18028149\n",
            " -0.13117105 -0.01013261 -0.05811106 -0.00737814  0.03560949  0.03457599\n",
            " -0.09948462 -0.06623524 -0.05779983 -0.01711864  0.24389167  0.12510213\n",
            "  0.003106    0.16942385 -0.01417204 -0.02782659  0.00143109  0.06574458\n",
            " -0.10071308  0.00664661 -0.0764025  -0.06614338  0.03114725  0.03002062\n",
            "  0.07674076  0.13323891 -0.21063018  0.15302026 -0.01548971 -0.04833605\n",
            "  0.00523034 -0.02149034 -0.06463669  0.01915052  0.14195825 -0.29341793\n",
            "  0.22209312  0.12297855  0.04837443  0.15621084  0.00215639  0.00968095\n",
            " -0.03717986 -0.11729009 -0.17494757 -0.01424957  0.05999148 -0.07590403\n",
            "  0.07595529 -0.00694486]\n"
          ],
          "name": "stdout"
        }
      ]
    }
  ]
}