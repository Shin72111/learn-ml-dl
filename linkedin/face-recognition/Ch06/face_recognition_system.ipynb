{
  "nbformat": 4,
  "nbformat_minor": 0,
  "metadata": {
    "colab": {
      "name": "face_recognition_system.ipynb",
      "version": "0.3.2",
      "provenance": [],
      "include_colab_link": true
    },
    "kernelspec": {
      "name": "python3",
      "display_name": "Python 3"
    },
    "accelerator": "GPU"
  },
  "cells": [
    {
      "cell_type": "markdown",
      "metadata": {
        "id": "view-in-github",
        "colab_type": "text"
      },
      "source": [
        "<a href=\"https://colab.research.google.com/github/Shin72111/learn-ml-dl/blob/master/linkedin/face-recognition/Ch06/face_recognition_system.ipynb\" target=\"_parent\"><img src=\"https://colab.research.google.com/assets/colab-badge.svg\" alt=\"Open In Colab\"/></a>"
      ]
    },
    {
      "cell_type": "code",
      "metadata": {
        "id": "98LGeD_IWJ-V",
        "colab_type": "code",
        "colab": {
          "base_uri": "https://localhost:8080/",
          "height": 351
        },
        "outputId": "483ead83-2313-48d1-fcaf-7cd33dbab453"
      },
      "source": [
        "!pip install face-recognition==1.2.2"
      ],
      "execution_count": 4,
      "outputs": [
        {
          "output_type": "stream",
          "text": [
            "Collecting face-recognition==1.2.2\n",
            "  Downloading https://files.pythonhosted.org/packages/28/10/f153bbbc218fc169768aa1c02f2e9178e9241e4af8da56289bdca2c0c217/face_recognition-1.2.2-py2.py3-none-any.whl\n",
            "Requirement already satisfied: Pillow in /usr/local/lib/python3.6/dist-packages (from face-recognition==1.2.2) (4.3.0)\n",
            "Requirement already satisfied: dlib>=19.7 in /usr/local/lib/python3.6/dist-packages (from face-recognition==1.2.2) (19.16.0)\n",
            "Requirement already satisfied: face-recognition-models>=0.3.0 in /usr/local/lib/python3.6/dist-packages (from face-recognition==1.2.2) (0.3.0)\n",
            "Requirement already satisfied: Click>=6.0 in /usr/local/lib/python3.6/dist-packages (from face-recognition==1.2.2) (7.0)\n",
            "Requirement already satisfied: numpy in /usr/local/lib/python3.6/dist-packages (from face-recognition==1.2.2) (1.16.5)\n",
            "Requirement already satisfied: olefile in /usr/local/lib/python3.6/dist-packages (from Pillow->face-recognition==1.2.2) (0.46)\n",
            "Installing collected packages: face-recognition\n",
            "  Found existing installation: face-recognition 1.2.3\n",
            "    Uninstalling face-recognition-1.2.3:\n",
            "      Successfully uninstalled face-recognition-1.2.3\n",
            "Successfully installed face-recognition-1.2.2\n"
          ],
          "name": "stdout"
        },
        {
          "output_type": "display_data",
          "data": {
            "application/vnd.colab-display-data+json": {
              "pip_warning": {
                "packages": [
                  "face_recognition"
                ]
              }
            }
          },
          "metadata": {
            "tags": []
          }
        }
      ]
    },
    {
      "cell_type": "code",
      "metadata": {
        "id": "y-jpHugwWQ5O",
        "colab_type": "code",
        "colab": {}
      },
      "source": [
        "import face_recognition\n",
        "\n",
        "# Load the known images\n",
        "image_of_person_1 = face_recognition.load_image_file('person_1.jpg')\n",
        "image_of_person_2 = face_recognition.load_image_file('person_2.jpg')\n",
        "image_of_person_3 = face_recognition.load_image_file('person_3.jpg')\n",
        "\n",
        "# Get the face encoding of each person. This can fail if no one is found in the photo.\n",
        "person_1_face_encodings = face_recognition.face_encodings(image_of_person_1)[0]\n",
        "person_2_face_encodings = face_recognition.face_encodings(image_of_person_2)[0]\n",
        "person_3_face_encodings = face_recognition.face_encodings(image_of_person_3)[0]\n",
        "\n",
        "# Create a list of all known face encodings\n",
        "known_face_encodings = [\n",
        "person_1_face_encodings,\n",
        "person_2_face_encodings,\n",
        "person_3_face_encodings\n",
        "]\n"
      ],
      "execution_count": 0,
      "outputs": []
    },
    {
      "cell_type": "code",
      "metadata": {
        "id": "AMs5CnEHYJ9I",
        "colab_type": "code",
        "colab": {
          "base_uri": "https://localhost:8080/",
          "height": 69
        },
        "outputId": "8dcd6ce2-6f77-4c97-8ec5-5354f0d519cf"
      },
      "source": [
        "# Load the image we want to check\n",
        "unknown_image = face_recognition.load_image_file('unknown_2.jpg')\n",
        "\n",
        "# Get face encodings for any people in the picture\n",
        "unknown_face_encodings = face_recognition.face_encodings(unknown_image)\n",
        "\n",
        "# There might be more than one person in the photo, so we need to loop over each face we found\n",
        "for unknown_face_encoding in unknown_face_encodings:\n",
        "\n",
        "    # Test if this unknown face encoding matches any of the three people we know\n",
        "    results = face_recognition.compare_faces(known_face_encodings, unknown_face_encoding)\n",
        "\n",
        "    name = \"Unknown\"\n",
        "\n",
        "    if results[0]:\n",
        "        name = \"Person 1\"\n",
        "    elif results[1]:\n",
        "        name = \"Person 2\"\n",
        "    elif results[2]:\n",
        "        name = \"Person 3\"\n",
        "\n",
        "    print(f\"Found {name} in the photo!\")"
      ],
      "execution_count": 8,
      "outputs": [
        {
          "output_type": "stream",
          "text": [
            "Found Person 2 in the photo!\n",
            "Found Person 1 in the photo!\n",
            "Found Person 3 in the photo!\n"
          ],
          "name": "stdout"
        }
      ]
    }
  ]
}