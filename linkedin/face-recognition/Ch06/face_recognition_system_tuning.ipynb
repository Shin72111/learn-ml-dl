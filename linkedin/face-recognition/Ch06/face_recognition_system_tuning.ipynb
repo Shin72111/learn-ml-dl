{
  "nbformat": 4,
  "nbformat_minor": 0,
  "metadata": {
    "colab": {
      "name": "face_recognition_system_tuning.ipynb",
      "version": "0.3.2",
      "provenance": [],
      "include_colab_link": true
    },
    "kernelspec": {
      "name": "python3",
      "display_name": "Python 3"
    },
    "accelerator": "GPU"
  },
  "cells": [
    {
      "cell_type": "markdown",
      "metadata": {
        "id": "view-in-github",
        "colab_type": "text"
      },
      "source": [
        "<a href=\"https://colab.research.google.com/github/Shin72111/learn-ml-dl/blob/master/linkedin/face-recognition/Ch06/face_recognition_system_tuning.ipynb\" target=\"_parent\"><img src=\"https://colab.research.google.com/assets/colab-badge.svg\" alt=\"Open In Colab\"/></a>"
      ]
    },
    {
      "cell_type": "code",
      "metadata": {
        "id": "zqwzfEwwavaq",
        "colab_type": "code",
        "colab": {
          "base_uri": "https://localhost:8080/",
          "height": 332
        },
        "outputId": "5bff1e02-2811-4665-f1f7-066b70dae625"
      },
      "source": [
        "!pip install face-recognition"
      ],
      "execution_count": 1,
      "outputs": [
        {
          "output_type": "stream",
          "text": [
            "Collecting face-recognition\n",
            "  Downloading https://files.pythonhosted.org/packages/3f/ed/ad9a28042f373d4633fc8b49109b623597d6f193d3bbbef7780a5ee8eef2/face_recognition-1.2.3-py2.py3-none-any.whl\n",
            "Requirement already satisfied: numpy in /usr/local/lib/python3.6/dist-packages (from face-recognition) (1.16.5)\n",
            "Requirement already satisfied: Click>=6.0 in /usr/local/lib/python3.6/dist-packages (from face-recognition) (7.0)\n",
            "Requirement already satisfied: dlib>=19.7 in /usr/local/lib/python3.6/dist-packages (from face-recognition) (19.16.0)\n",
            "Collecting face-recognition-models>=0.3.0 (from face-recognition)\n",
            "\u001b[?25l  Downloading https://files.pythonhosted.org/packages/cf/3b/4fd8c534f6c0d1b80ce0973d01331525538045084c73c153ee6df20224cf/face_recognition_models-0.3.0.tar.gz (100.1MB)\n",
            "\u001b[K     |████████████████████████████████| 100.2MB 364kB/s \n",
            "\u001b[?25hRequirement already satisfied: Pillow in /usr/local/lib/python3.6/dist-packages (from face-recognition) (4.3.0)\n",
            "Requirement already satisfied: olefile in /usr/local/lib/python3.6/dist-packages (from Pillow->face-recognition) (0.46)\n",
            "Building wheels for collected packages: face-recognition-models\n",
            "  Building wheel for face-recognition-models (setup.py) ... \u001b[?25l\u001b[?25hdone\n",
            "  Created wheel for face-recognition-models: filename=face_recognition_models-0.3.0-py2.py3-none-any.whl size=100566176 sha256=4834a3005247a0711d52e6d5feae41c2138b67032f34344c6b6ac43f358a2139\n",
            "  Stored in directory: /root/.cache/pip/wheels/d2/99/18/59c6c8f01e39810415c0e63f5bede7d83dfb0ffc039865465f\n",
            "Successfully built face-recognition-models\n",
            "Installing collected packages: face-recognition-models, face-recognition\n",
            "Successfully installed face-recognition-1.2.3 face-recognition-models-0.3.0\n"
          ],
          "name": "stdout"
        }
      ]
    },
    {
      "cell_type": "code",
      "metadata": {
        "id": "ZbMYA97qazCg",
        "colab_type": "code",
        "colab": {
          "base_uri": "https://localhost:8080/",
          "height": 34
        },
        "outputId": "a558765d-3982-4b3c-d248-cfd432b6a88e"
      },
      "source": [
        "import face_recognition\n",
        "\n",
        "# Load the known images\n",
        "image_of_person_1 = face_recognition.load_image_file(\"person_1.jpg\")\n",
        "image_of_person_2 = face_recognition.load_image_file(\"person_2.jpg\")\n",
        "image_of_person_3 = face_recognition.load_image_file(\"person_3.jpg\")\n",
        "\n",
        "# Get the face encoding of each person. This can fail if no one is found in the photo.\n",
        "person_1_face_encoding = face_recognition.face_encodings(image_of_person_1)[0]\n",
        "person_2_face_encoding = face_recognition.face_encodings(image_of_person_2)[0]\n",
        "person_3_face_encoding = face_recognition.face_encodings(image_of_person_3)[0]\n",
        "\n",
        "# Create a list of all known face encodings\n",
        "known_face_encodings = [\n",
        "    person_1_face_encoding,\n",
        "    person_2_face_encoding,\n",
        "    person_3_face_encoding\n",
        "]\n",
        "\n",
        "# Load the image we want to check\n",
        "unknown_image = face_recognition.load_image_file(\"unknown_7.jpg\")\n",
        "\n",
        "# Get face encodings for any people in the picture\n",
        "face_locations = face_recognition.face_locations(unknown_image, number_of_times_to_upsample=2)\n",
        "unknown_face_encodings = face_recognition.face_encodings(unknown_image, known_face_locations=face_locations)\n",
        "\n",
        "# There might be more than one person in the photo, so we need to loop over each face we found\n",
        "for unknown_face_encoding in unknown_face_encodings:\n",
        "\n",
        "    # Test if this unknown face encoding matches any of the three people we know\n",
        "    results = face_recognition.compare_faces(known_face_encodings, unknown_face_encoding, tolerance=0.6)\n",
        "\n",
        "    name = \"Unknown\"\n",
        "\n",
        "    if results[0]:\n",
        "        name = \"Person 1\"\n",
        "    elif results[1]:\n",
        "        name = \"Person 2\"\n",
        "    elif results[2]:\n",
        "        name = \"Person 3\"\n",
        "\n",
        "    print(f\"Found {name} in the photo!\")\n"
      ],
      "execution_count": 4,
      "outputs": [
        {
          "output_type": "stream",
          "text": [
            "Found Person 2 in the photo!\n"
          ],
          "name": "stdout"
        }
      ]
    }
  ]
}