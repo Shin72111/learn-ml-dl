{
  "nbformat": 4,
  "nbformat_minor": 0,
  "metadata": {
    "colab": {
      "name": "05_Support_Vector_Machines.ipynb",
      "provenance": [],
      "collapsed_sections": [],
      "authorship_tag": "ABX9TyMJnc1PB5JsKumEEQn6Wivf",
      "include_colab_link": true
    },
    "kernelspec": {
      "name": "python3",
      "display_name": "Python 3"
    }
  },
  "cells": [
    {
      "cell_type": "markdown",
      "metadata": {
        "id": "view-in-github",
        "colab_type": "text"
      },
      "source": [
        "<a href=\"https://colab.research.google.com/github/TamTran72111/learn-ml-dl/blob/master/Augelien_Geron_book/05_Support_Vector_Machines.ipynb\" target=\"_parent\"><img src=\"https://colab.research.google.com/assets/colab-badge.svg\" alt=\"Open In Colab\"/></a>"
      ]
    },
    {
      "cell_type": "markdown",
      "metadata": {
        "id": "rxyzq4jmc5FL",
        "colab_type": "text"
      },
      "source": [
        "<font color='red'><b><h3>Linear SVM Classification</b></h3></font>"
      ]
    },
    {
      "cell_type": "code",
      "metadata": {
        "id": "LMMTHRzSb-mI",
        "colab_type": "code",
        "outputId": "0a73bb7e-c5e8-4066-8e24-232412f2dcef",
        "colab": {
          "base_uri": "https://localhost:8080/",
          "height": 191
        }
      },
      "source": [
        "import numpy as np\n",
        "from sklearn import datasets\n",
        "from sklearn.pipeline import Pipeline\n",
        "from sklearn.preprocessing import StandardScaler\n",
        "from sklearn.svm import LinearSVC # Can use SVC class with a linear kernel instead\n",
        "\n",
        "iris = datasets.load_iris()\n",
        "X = iris['data'][:, (2, 3)]    # petal length, petal width\n",
        "y = (iris['target'] == 2).astype(np.float64)    # Iris virginica\n",
        "\n",
        "svm_clf = Pipeline([\n",
        "  ('scaler', StandardScaler()),\n",
        "  ('linear_svc', LinearSVC(C=1, loss='hinge')),\n",
        "])\n",
        "\n",
        "svm_clf.fit(X, y)"
      ],
      "execution_count": 2,
      "outputs": [
        {
          "output_type": "execute_result",
          "data": {
            "text/plain": [
              "Pipeline(memory=None,\n",
              "         steps=[('scaler',\n",
              "                 StandardScaler(copy=True, with_mean=True, with_std=True)),\n",
              "                ('linear_svc',\n",
              "                 LinearSVC(C=1, class_weight=None, dual=True,\n",
              "                           fit_intercept=True, intercept_scaling=1,\n",
              "                           loss='hinge', max_iter=1000, multi_class='ovr',\n",
              "                           penalty='l2', random_state=None, tol=0.0001,\n",
              "                           verbose=0))],\n",
              "         verbose=False)"
            ]
          },
          "metadata": {
            "tags": []
          },
          "execution_count": 2
        }
      ]
    },
    {
      "cell_type": "code",
      "metadata": {
        "id": "pFJhHnmugMEx",
        "colab_type": "code",
        "outputId": "790662cc-ad28-4502-92c9-5b4e876c1ee8",
        "colab": {
          "base_uri": "https://localhost:8080/",
          "height": 34
        }
      },
      "source": [
        "svm_clf.predict([[5.5, 1.7]])"
      ],
      "execution_count": 3,
      "outputs": [
        {
          "output_type": "execute_result",
          "data": {
            "text/plain": [
              "array([1.])"
            ]
          },
          "metadata": {
            "tags": []
          },
          "execution_count": 3
        }
      ]
    },
    {
      "cell_type": "code",
      "metadata": {
        "id": "SSkJk71qgROZ",
        "colab_type": "code",
        "colab": {}
      },
      "source": [
        "# SGDClassifier(loss='hinge', alpha=1/(m*C)) uses Stochastic Gradient Descent\n",
        "# to train a linear SVM classifier. Not fast as LinearSVC, but be useful to \n",
        "# handle online classification tasks or huge datasets that do not fit in memory"
      ],
      "execution_count": 0,
      "outputs": []
    },
    {
      "cell_type": "markdown",
      "metadata": {
        "id": "_HIUF4jQho0J",
        "colab_type": "text"
      },
      "source": [
        "<font color='red'><b><h3>Nonlinear SVM Classification</b></h3></font>"
      ]
    },
    {
      "cell_type": "code",
      "metadata": {
        "id": "jqGqZ0ag5LFV",
        "colab_type": "code",
        "colab": {}
      },
      "source": [
        "%matplotlib inline\n",
        "import matplotlib as mpl\n",
        "import matplotlib.pyplot as plt"
      ],
      "execution_count": 0,
      "outputs": []
    },
    {
      "cell_type": "code",
      "metadata": {
        "id": "3SrmU6pohsMX",
        "colab_type": "code",
        "outputId": "e0fb121c-394b-4826-a09f-c2178e748695",
        "colab": {
          "base_uri": "https://localhost:8080/",
          "height": 292
        }
      },
      "source": [
        "from sklearn.datasets import make_moons\n",
        "from sklearn.pipeline import Pipeline\n",
        "from sklearn.preprocessing import PolynomialFeatures\n",
        "\n",
        "X, y = make_moons(n_samples=100, noise=0.15, random_state=42)\n",
        "\n",
        "def plot_dataset(X, y, axes):\n",
        "  plt.plot(X[:, 0][y==0], X[:,1][y==0], 'bs')\n",
        "  plt.plot(X[:, 0][y==1], X[:,1][y==1], 'g^')\n",
        "  plt.axis(axes)\n",
        "  plt.grid(True, which='both')\n",
        "  plt.xlabel(r'$x_1$', fontsize=20)\n",
        "  plt.ylabel(r'$x_2$', fontsize=20, rotation=0)\n",
        "\n",
        "plot_dataset(X, y, [-1.5, 2.5, -1, 1.5])\n",
        "plt.show()"
      ],
      "execution_count": 6,
      "outputs": [
        {
          "output_type": "display_data",
          "data": {
            "image/png": "[encoded data removed]",
            "text/plain": [
              "<Figure size 432x288 with 1 Axes>"
            ]
          },
          "metadata": {
            "tags": [],
            "needs_background": "light"
          }
        }
      ]
    },
    {
      "cell_type": "code",
      "metadata": {
        "id": "3gjCwaJq5G7P",
        "colab_type": "code",
        "outputId": "295484b1-fae9-4e4d-fdbf-150d01bef1a1",
        "colab": {
          "base_uri": "https://localhost:8080/",
          "height": 298
        }
      },
      "source": [
        "polynomial_svm_clf = Pipeline([\n",
        "  ('poly_features', PolynomialFeatures(degree=3)),\n",
        "  ('scaler', StandardScaler()),\n",
        "  ('svm_clf', LinearSVC(C=10, loss='hinge', random_state=42)),\n",
        "])\n",
        "\n",
        "polynomial_svm_clf.fit(X, y)"
      ],
      "execution_count": 7,
      "outputs": [
        {
          "output_type": "stream",
          "text": [
            "/usr/local/lib/python3.6/dist-packages/sklearn/svm/_base.py:947: ConvergenceWarning: Liblinear failed to converge, increase the number of iterations.\n",
            "  \"the number of iterations.\", ConvergenceWarning)\n"
          ],
          "name": "stderr"
        },
        {
          "output_type": "execute_result",
          "data": {
            "text/plain": [
              "Pipeline(memory=None,\n",
              "         steps=[('poly_features',\n",
              "                 PolynomialFeatures(degree=3, include_bias=True,\n",
              "                                    interaction_only=False, order='C')),\n",
              "                ('scaler',\n",
              "                 StandardScaler(copy=True, with_mean=True, with_std=True)),\n",
              "                ('svm_clf',\n",
              "                 LinearSVC(C=10, class_weight=None, dual=True,\n",
              "                           fit_intercept=True, intercept_scaling=1,\n",
              "                           loss='hinge', max_iter=1000, multi_class='ovr',\n",
              "                           penalty='l2', random_state=42, tol=0.0001,\n",
              "                           verbose=0))],\n",
              "         verbose=False)"
            ]
          },
          "metadata": {
            "tags": []
          },
          "execution_count": 7
        }
      ]
    },
    {
      "cell_type": "code",
      "metadata": {
        "id": "o8kMjgVv5_Zc",
        "colab_type": "code",
        "outputId": "eed772fa-d9c7-4b9c-96b7-ec183ae2fdc2",
        "colab": {
          "base_uri": "https://localhost:8080/",
          "height": 292
        }
      },
      "source": [
        "def plot_predictions(clf, axes):\n",
        "  x0s = np.linspace(axes[0], axes[1], 100)\n",
        "  x1s = np.linspace(axes[2], axes[3], 100)\n",
        "  x0, x1 = np.meshgrid(x0s, x1s)\n",
        "  X = np.c_[x0.ravel(), x1.ravel()]\n",
        "  y_pred = clf.predict(X).reshape(x0.shape)\n",
        "  y_decision = clf.decision_function(X).reshape(x0.shape)\n",
        "  plt.contourf(x0, x1, y_pred, cmap=plt.cm.brg, alpha=0.2)\n",
        "  plt.contourf(x0, x1, y_decision, cmap=plt.cm.brg, alpha=0.1)\n",
        "\n",
        "plot_predictions(polynomial_svm_clf, [-1.5, 2.5, -1, 1.5])\n",
        "plot_dataset(X, y, [-1.5, 2.5, -1, 1.5])\n",
        "plt.show()"
      ],
      "execution_count": 8,
      "outputs": [
        {
          "output_type": "display_data",
          "data": {
            "image/png": "[encoded data removed]",
            "text/plain": [
              "<Figure size 432x288 with 1 Axes>"
            ]
          },
          "metadata": {
            "tags": [],
            "needs_background": "light"
          }
        }
      ]
    },
    {
      "cell_type": "markdown",
      "metadata": {
        "id": "koKpLUPT7zmT",
        "colab_type": "text"
      },
      "source": [
        "**Polynomial Kernel**"
      ]
    },
    {
      "cell_type": "code",
      "metadata": {
        "id": "i5yALCqA7rBZ",
        "colab_type": "code",
        "outputId": "d2417af3-4164-496a-c38e-e3fa7a198399",
        "colab": {
          "base_uri": "https://localhost:8080/",
          "height": 191
        }
      },
      "source": [
        "from sklearn.svm import SVC\n",
        "\n",
        "poly_kernel_svm_clf = Pipeline([\n",
        "  ('scaler', StandardScaler()),\n",
        "  ('svm_clf', SVC(kernel='poly', degree=3, coef0=1, C=5))\n",
        "])\n",
        "\n",
        "poly_kernel_svm_clf.fit(X, y)"
      ],
      "execution_count": 9,
      "outputs": [
        {
          "output_type": "execute_result",
          "data": {
            "text/plain": [
              "Pipeline(memory=None,\n",
              "         steps=[('scaler',\n",
              "                 StandardScaler(copy=True, with_mean=True, with_std=True)),\n",
              "                ('svm_clf',\n",
              "                 SVC(C=5, break_ties=False, cache_size=200, class_weight=None,\n",
              "                     coef0=1, decision_function_shape='ovr', degree=3,\n",
              "                     gamma='scale', kernel='poly', max_iter=-1,\n",
              "                     probability=False, random_state=None, shrinking=True,\n",
              "                     tol=0.001, verbose=False))],\n",
              "         verbose=False)"
            ]
          },
          "metadata": {
            "tags": []
          },
          "execution_count": 9
        }
      ]
    },
    {
      "cell_type": "markdown",
      "metadata": {
        "id": "o1VmuWwr_1zI",
        "colab_type": "text"
      },
      "source": [
        "**Gaussian RBF Kernel**"
      ]
    },
    {
      "cell_type": "code",
      "metadata": {
        "id": "2f7bKaCxoScC",
        "colab_type": "code",
        "colab": {
          "base_uri": "https://localhost:8080/",
          "height": 208
        },
        "outputId": "961d354b-d17a-4c9d-8a7e-d35ef9126836"
      },
      "source": [
        "rbf_kernel_svm_clf = Pipeline([\n",
        "    ('scaler', StandardScaler()),\n",
        "    ('svm_clf', SVC(kernel='rbf', gamma=5, C=0.001)),\n",
        "])\n",
        "rbf_kernel_svm_clf.fit(X, y)"
      ],
      "execution_count": 10,
      "outputs": [
        {
          "output_type": "execute_result",
          "data": {
            "text/plain": [
              "Pipeline(memory=None,\n",
              "         steps=[('scaler',\n",
              "                 StandardScaler(copy=True, with_mean=True, with_std=True)),\n",
              "                ('svm_clf',\n",
              "                 SVC(C=0.001, break_ties=False, cache_size=200,\n",
              "                     class_weight=None, coef0=0.0,\n",
              "                     decision_function_shape='ovr', degree=3, gamma=5,\n",
              "                     kernel='rbf', max_iter=-1, probability=False,\n",
              "                     random_state=None, shrinking=True, tol=0.001,\n",
              "                     verbose=False))],\n",
              "         verbose=False)"
            ]
          },
          "metadata": {
            "tags": []
          },
          "execution_count": 10
        }
      ]
    },
    {
      "cell_type": "code",
      "metadata": {
        "id": "EsOGFZLUAZbw",
        "colab_type": "code",
        "colab": {
          "base_uri": "https://localhost:8080/",
          "height": 292
        },
        "outputId": "1ed212e5-9bce-476d-f5af-5625cd62309e"
      },
      "source": [
        "plot_predictions(rbf_kernel_svm_clf, [-1.5, 2.45, -1, 1.5])\n",
        "plot_dataset(X, y , [-1.5, 2.45, -1, 1.5])\n",
        "plt.show()"
      ],
      "execution_count": 11,
      "outputs": [
        {
          "output_type": "display_data",
          "data": {
            "image/png": "[encoded data removed]",
            "text/plain": [
              "<Figure size 432x288 with 1 Axes>"
            ]
          },
          "metadata": {
            "tags": [],
            "needs_background": "light"
          }
        }
      ]
    },
    {
      "cell_type": "markdown",
      "metadata": {
        "id": "tFsSgpJgCDhI",
        "colab_type": "text"
      },
      "source": [
        "<font color='red'><b><h3>SVM Regression</h3></b></font>"
      ]
    },
    {
      "cell_type": "code",
      "metadata": {
        "id": "eY8kv9n3A26k",
        "colab_type": "code",
        "colab": {}
      },
      "source": [
        "np.random.seed(42)\n",
        "m = 50\n",
        "X = 2 * np.random.rand(m, 1)\n",
        "y = (4 + 3 * X + np.random.randn(m, 1)).ravel()"
      ],
      "execution_count": 0,
      "outputs": []
    },
    {
      "cell_type": "code",
      "metadata": {
        "id": "nA-90cd5DDyT",
        "colab_type": "code",
        "colab": {
          "base_uri": "https://localhost:8080/",
          "height": 69
        },
        "outputId": "a359db28-a4ec-4671-a1fa-efbc9edeabb3"
      },
      "source": [
        "from sklearn.svm import LinearSVR\n",
        "\n",
        "svm_reg = LinearSVR(epsilon=1.5, random_state=42)\n",
        "svm_reg.fit(X, y)"
      ],
      "execution_count": 13,
      "outputs": [
        {
          "output_type": "execute_result",
          "data": {
            "text/plain": [
              "LinearSVR(C=1.0, dual=True, epsilon=1.5, fit_intercept=True,\n",
              "          intercept_scaling=1.0, loss='epsilon_insensitive', max_iter=1000,\n",
              "          random_state=42, tol=0.0001, verbose=0)"
            ]
          },
          "metadata": {
            "tags": []
          },
          "execution_count": 13
        }
      ]
    },
    {
      "cell_type": "code",
      "metadata": {
        "id": "1CzSf1_JDNqy",
        "colab_type": "code",
        "colab": {}
      },
      "source": [
        "svm_reg1 = LinearSVR(epsilon=1.5, random_state=42)\n",
        "svm_reg2 = LinearSVR(epsilon=0.5, random_state=42)\n",
        "svm_reg1.fit(X, y)\n",
        "svm_reg2.fit(X, y)\n",
        "\n",
        "def find_support_vectors(svm_reg, X, y):\n",
        "  y_pred = svm_reg.predict(X)\n",
        "  off_margin = (np.abs(y - y_pred) >= svm_reg.epsilon) \n",
        "  return np.argwhere(off_margin)\n",
        "\n",
        "svm_reg1.support_ = find_support_vectors(svm_reg1, X, y)\n",
        "svm_reg2.support_ = find_support_vectors(svm_reg2, X, y)\n",
        "\n",
        "eps_x1 = 1\n",
        "eps_y_pred = svm_reg1.predict([[eps_x1]])"
      ],
      "execution_count": 0,
      "outputs": []
    },
    {
      "cell_type": "code",
      "metadata": {
        "id": "jjXLl380D2tA",
        "colab_type": "code",
        "colab": {
          "base_uri": "https://localhost:8080/",
          "height": 307
        },
        "outputId": "eba2f44c-47ad-47d1-98cd-70a06391b33e"
      },
      "source": [
        "def plot_svm_regression(svm_reg, X, y, axes):\n",
        "  x1s = np.linspace(axes[0], axes[1], 100). reshape(100, 1)\n",
        "  y_pred = svm_reg.predict(x1s)\n",
        "  plt.plot(x1s, y_pred, 'k-', linewidth=2, label=r'$\\hat{y}$')\n",
        "  plt.plot(x1s, y_pred + svm_reg.epsilon, 'k--')\n",
        "  plt.plot(x1s, y_pred - svm_reg.epsilon, 'k--')\n",
        "  plt.scatter(X[svm_reg.support_], y[svm_reg.support_], s=180, facecolors='#FFAAAA')\n",
        "  plt.plot(X, y, 'bo')\n",
        "  plt.xlabel(r'$x_1$', fontsize=18)\n",
        "  plt.legend(loc='upper left', fontsize=18)\n",
        "  plt.axis(axes)\n",
        "\n",
        "fig, axes = plt.subplots(ncols=2, figsize=(9,4), sharey=True)\n",
        "plt.sca(axes[0])\n",
        "plot_svm_regression(svm_reg1, X, y, [0, 2, 3, 11])\n",
        "plt.title(r'$\\epsilon = {}$'.format(svm_reg1.epsilon), fontsize=18)\n",
        "plt.ylabel(r'$y$', fontsize=18, rotation=0)\n",
        "\n",
        "plt.annotate('', xy=(eps_x1, eps_y_pred), xycoords='data',\n",
        "             xytext=(eps_x1, eps_y_pred - svm_reg1.epsilon), \n",
        "             textcoords='data', arrowprops={'arrowstyle': '<->', 'linewidth': 1.5}\n",
        "             )\n",
        "plt.text(0.91, 5.6, r'$\\epsilon$', fontsize=20)\n",
        "plt.sca(axes[1])\n",
        "plot_svm_regression(svm_reg2, X, y, [0, 2, 3, 11])\n",
        "plt.title(r'$\\epsilon = {}$'.format(svm_reg2.epsilon), fontsize=18)\n",
        "plt.show()\n"
      ],
      "execution_count": 15,
      "outputs": [
        {
          "output_type": "display_data",
          "data": {
            "image/png": "[encoded data removed]",
            "text/plain": [
              "<Figure size 648x288 with 2 Axes>"
            ]
          },
          "metadata": {
            "tags": [],
            "needs_background": "light"
          }
        }
      ]
    },
    {
      "cell_type": "code",
      "metadata": {
        "id": "76w2K0eyFx3W",
        "colab_type": "code",
        "colab": {
          "base_uri": "https://localhost:8080/",
          "height": 52
        },
        "outputId": "76a42f5e-88a7-4856-8eb3-1eedce0c4b89"
      },
      "source": [
        "from sklearn.svm import SVR\n",
        "svm_poly_reg = SVR(kernel='poly', degree=2, C=100, epsilon=0.1)\n",
        "svm_poly_reg.fit(X, y)"
      ],
      "execution_count": 16,
      "outputs": [
        {
          "output_type": "execute_result",
          "data": {
            "text/plain": [
              "SVR(C=100, cache_size=200, coef0=0.0, degree=2, epsilon=0.1, gamma='scale',\n",
              "    kernel='poly', max_iter=-1, shrinking=True, tol=0.001, verbose=False)"
            ]
          },
          "metadata": {
            "tags": []
          },
          "execution_count": 16
        }
      ]
    },
    {
      "cell_type": "markdown",
      "metadata": {
        "id": "mPSmrbiSu5R7",
        "colab_type": "text"
      },
      "source": [
        "<font color='red'><b><h3>Exercise</h3></b></font>"
      ]
    },
    {
      "cell_type": "code",
      "metadata": {
        "id": "Aa4Rgar0HnBO",
        "colab_type": "code",
        "colab": {}
      },
      "source": [
        "# Question 8\n",
        "from sklearn import datasets\n",
        "\n",
        "iris = datasets.load_iris()\n",
        "X = iris['data'][:, (2,3)]    # petal length, petal width\n",
        "y = iris['target']\n",
        "\n",
        "setosa_or_versicolor = (y == 0) | (y == 1)\n",
        "X = X[setosa_or_versicolor]\n",
        "y = y[setosa_or_versicolor]"
      ],
      "execution_count": 0,
      "outputs": []
    },
    {
      "cell_type": "code",
      "metadata": {
        "id": "He9EMZvAvZoY",
        "colab_type": "code",
        "colab": {
          "base_uri": "https://localhost:8080/",
          "height": 69
        },
        "outputId": "a3c024ee-f5f8-4f04-e746-30c5ca5eac58"
      },
      "source": [
        "from sklearn.svm import SVC, LinearSVC\n",
        "from sklearn.linear_model import SGDClassifier\n",
        "from sklearn.preprocessing import StandardScaler\n",
        "\n",
        "C = 5\n",
        "alpha = 1 / (C * len(X))\n",
        "\n",
        "lin_clf = LinearSVC(loss='hinge', C=C, random_state=42)\n",
        "svm_clf = SVC(kernel='linear', C=C)\n",
        "sgd_clf = SGDClassifier(loss='hinge', learning_rate='constant', eta0=0.001,\n",
        "                        alpha=alpha, max_iter=1000, tol=1e-3, random_state=42)\n",
        "\n",
        "scaler = StandardScaler()\n",
        "X_scaled = scaler.fit_transform(X)\n",
        "\n",
        "lin_clf.fit(X_scaled, y)\n",
        "svm_clf.fit(X_scaled, y)\n",
        "sgd_clf.fit(X_scaled, y)\n",
        "\n",
        "print('Linear SVC:                  ', lin_clf.intercept_, lin_clf.coef_)\n",
        "print('SVC:                         ', svm_clf.intercept_, svm_clf.coef_)\n",
        "print('SGDClassifier(alpha={:.5f}): '.format(sgd_clf.alpha), sgd_clf.intercept_, sgd_clf.coef_)"
      ],
      "execution_count": 18,
      "outputs": [
        {
          "output_type": "stream",
          "text": [
            "Linear SVC:                   [0.28474272] [[1.05364736 1.09903308]]\n",
            "SVC:                          [0.31896852] [[1.1203284  1.02625193]]\n",
            "SGDClassifier(alpha=0.00200):  [0.117] [[0.77714169 0.72981762]]\n"
          ],
          "name": "stdout"
        }
      ]
    },
    {
      "cell_type": "code",
      "metadata": {
        "id": "xrtUusNGwpFJ",
        "colab_type": "code",
        "colab": {
          "base_uri": "https://localhost:8080/",
          "height": 287
        },
        "outputId": "b22c7312-98af-41ac-ead1-fc27bdafefc9"
      },
      "source": [
        "# Compute the slope and bias of each decision boundary\n",
        "w1 = -lin_clf.coef_[0, 0] / lin_clf.coef_[0, 1]\n",
        "b1 = -lin_clf.intercept_[0] / lin_clf.coef_[0, 1]\n",
        "w2 = -svm_clf.coef_[0, 0] / svm_clf.coef_[0, 1]\n",
        "b2 = -svm_clf.intercept_[0] / svm_clf.coef_[0, 1]\n",
        "w3 = -sgd_clf.coef_[0, 0] / sgd_clf.coef_[0, 1]\n",
        "b3 = -sgd_clf.intercept_[0] / sgd_clf.coef_[0, 1]\n",
        "\n",
        "# Transform the decision boundary lines back to the original scale\n",
        "line1 = scaler.inverse_transform([[-10, -10 * w1 + b1], [10, 10 * w1 + b1]])\n",
        "line2 = scaler.inverse_transform([[-10, -10 * w2 + b2], [10, 10 * w2 + b2]])\n",
        "line3 = scaler.inverse_transform([[-10, -10 * w3 + b3], [10, 10 * w3 + b3]])\n",
        "\n",
        "# Plot all three decision boundaries\n",
        "plt.figure(figsize=(11, 4))\n",
        "plt.plot(line1[:, 0], line1[:, 1], 'k:', label='LinearSVC')\n",
        "plt.plot(line2[:, 0], line2[:, 1], 'b--', linewidth=2, label='SVC')\n",
        "plt.plot(line3[:, 0], line3[:, 1], 'r-', label='SGDClassifier')\n",
        "plt.plot(X[:, 0][y==1], X[:,1][y==1], 'bs') # label= \"Iris Versicolor\"\n",
        "plt.plot(X[:, 0][y==0], X[:,1][y==0], 'yo') # label= \"Iris Setosa\"\n",
        "plt.xlabel('Petal length', fontsize=14)\n",
        "plt.xlabel('Petal width', fontsize=14)\n",
        "plt.legend(loc='upper center', fontsize=14)\n",
        "plt.axis([0, 5.5, 0, 2])\n",
        "\n",
        "plt.show()"
      ],
      "execution_count": 19,
      "outputs": [
        {
          "output_type": "display_data",
          "data": {
            "image/png": "[encoded data removed]",
            "text/plain": [
              "<Figure size 792x288 with 1 Axes>"
            ]
          },
          "metadata": {
            "tags": [],
            "needs_background": "light"
          }
        }
      ]
    },
    {
      "cell_type": "code",
      "metadata": {
        "id": "loe2gY9K_a5q",
        "colab_type": "code",
        "colab": {}
      },
      "source": [
        "# Question 9\n",
        "mnist = datasets.fetch_openml('mnist_784', version=1, cache=True)\n",
        "\n",
        "X = mnist['data']\n",
        "y = mnist['target'].astype(np.uint8)\n",
        "\n",
        "X_train = X[:60_000]\n",
        "y_train = y[:60_000]\n",
        "X_test = X[60_000:]\n",
        "y_test = y[60_000:]"
      ],
      "execution_count": 0,
      "outputs": []
    },
    {
      "cell_type": "code",
      "metadata": {
        "id": "lAOFzjRXo5Fe",
        "colab_type": "code",
        "colab": {
          "base_uri": "https://localhost:8080/",
          "height": 141
        },
        "outputId": "6bf8fd8d-7afb-455f-defc-b2f7f5b5adcd"
      },
      "source": [
        "lin_clf = LinearSVC(random_state=42)\n",
        "lin_clf.fit(X_train, y_train)"
      ],
      "execution_count": 21,
      "outputs": [
        {
          "output_type": "stream",
          "text": [
            "/usr/local/lib/python3.6/dist-packages/sklearn/svm/_base.py:947: ConvergenceWarning: Liblinear failed to converge, increase the number of iterations.\n",
            "  \"the number of iterations.\", ConvergenceWarning)\n"
          ],
          "name": "stderr"
        },
        {
          "output_type": "execute_result",
          "data": {
            "text/plain": [
              "LinearSVC(C=1.0, class_weight=None, dual=True, fit_intercept=True,\n",
              "          intercept_scaling=1, loss='squared_hinge', max_iter=1000,\n",
              "          multi_class='ovr', penalty='l2', random_state=42, tol=0.0001,\n",
              "          verbose=0)"
            ]
          },
          "metadata": {
            "tags": []
          },
          "execution_count": 21
        }
      ]
    },
    {
      "cell_type": "code",
      "metadata": {
        "id": "p_AMzv9xpNib",
        "colab_type": "code",
        "colab": {
          "base_uri": "https://localhost:8080/",
          "height": 34
        },
        "outputId": "2f72a48b-977d-4c7e-cc9b-7f6b53fabca5"
      },
      "source": [
        "from sklearn.metrics import accuracy_score\n",
        "\n",
        "y_pred = lin_clf.predict(X_train)\n",
        "accuracy_score(y_train, y_pred)"
      ],
      "execution_count": 22,
      "outputs": [
        {
          "output_type": "execute_result",
          "data": {
            "text/plain": [
              "0.8733"
            ]
          },
          "metadata": {
            "tags": []
          },
          "execution_count": 22
        }
      ]
    },
    {
      "cell_type": "code",
      "metadata": {
        "id": "j_0UkGdapWr5",
        "colab_type": "code",
        "colab": {}
      },
      "source": [
        "# Using scaled data\n",
        "scaler = StandardScaler()\n",
        "X_train_scaled = scaler.fit_transform(X_train.astype(np.float32))\n",
        "X_test_scaled = scaler.transform(X_test.astype(np.float32))"
      ],
      "execution_count": 0,
      "outputs": []
    },
    {
      "cell_type": "code",
      "metadata": {
        "id": "idh3BlKMpn4H",
        "colab_type": "code",
        "colab": {
          "base_uri": "https://localhost:8080/",
          "height": 141
        },
        "outputId": "2ac529e8-3014-4845-ba79-4729f06ea6ae"
      },
      "source": [
        "lin_clf = LinearSVC(random_state=42)\n",
        "lin_clf.fit(X_train_scaled, y_train)"
      ],
      "execution_count": 24,
      "outputs": [
        {
          "output_type": "stream",
          "text": [
            "/usr/local/lib/python3.6/dist-packages/sklearn/svm/_base.py:947: ConvergenceWarning: Liblinear failed to converge, increase the number of iterations.\n",
            "  \"the number of iterations.\", ConvergenceWarning)\n"
          ],
          "name": "stderr"
        },
        {
          "output_type": "execute_result",
          "data": {
            "text/plain": [
              "LinearSVC(C=1.0, class_weight=None, dual=True, fit_intercept=True,\n",
              "          intercept_scaling=1, loss='squared_hinge', max_iter=1000,\n",
              "          multi_class='ovr', penalty='l2', random_state=42, tol=0.0001,\n",
              "          verbose=0)"
            ]
          },
          "metadata": {
            "tags": []
          },
          "execution_count": 24
        }
      ]
    },
    {
      "cell_type": "code",
      "metadata": {
        "id": "ehAcPFufpxNV",
        "colab_type": "code",
        "colab": {
          "base_uri": "https://localhost:8080/",
          "height": 34
        },
        "outputId": "a5f02501-799a-4c85-f309-124da446cb65"
      },
      "source": [
        "y_pred = lin_clf.predict(X_train_scaled)\n",
        "accuracy_score(y_train, y_pred)"
      ],
      "execution_count": 25,
      "outputs": [
        {
          "output_type": "execute_result",
          "data": {
            "text/plain": [
              "0.9226833333333333"
            ]
          },
          "metadata": {
            "tags": []
          },
          "execution_count": 25
        }
      ]
    },
    {
      "cell_type": "code",
      "metadata": {
        "id": "a9qTsb3jp7SL",
        "colab_type": "code",
        "colab": {
          "base_uri": "https://localhost:8080/",
          "height": 86
        },
        "outputId": "d429fa90-baff-4066-a550-ae1cf57df70b"
      },
      "source": [
        "svm_clf = SVC(gamma='scale') # RBF kernel by default\n",
        "svm_clf.fit(X_train_scaled[:10_000], y_train[:10_000])"
      ],
      "execution_count": 26,
      "outputs": [
        {
          "output_type": "execute_result",
          "data": {
            "text/plain": [
              "SVC(C=1.0, break_ties=False, cache_size=200, class_weight=None, coef0=0.0,\n",
              "    decision_function_shape='ovr', degree=3, gamma='scale', kernel='rbf',\n",
              "    max_iter=-1, probability=False, random_state=None, shrinking=True,\n",
              "    tol=0.001, verbose=False)"
            ]
          },
          "metadata": {
            "tags": []
          },
          "execution_count": 26
        }
      ]
    },
    {
      "cell_type": "code",
      "metadata": {
        "id": "Vr1wzdKPqqei",
        "colab_type": "code",
        "colab": {
          "base_uri": "https://localhost:8080/",
          "height": 34
        },
        "outputId": "b9d7b6c6-f298-45d4-93d6-a6295aedb0a1"
      },
      "source": [
        "y_pred = svm_clf.predict(X_train_scaled)\n",
        "accuracy_score(y_train, y_pred)"
      ],
      "execution_count": 27,
      "outputs": [
        {
          "output_type": "execute_result",
          "data": {
            "text/plain": [
              "0.9455333333333333"
            ]
          },
          "metadata": {
            "tags": []
          },
          "execution_count": 27
        }
      ]
    },
    {
      "cell_type": "code",
      "metadata": {
        "id": "n7k7aCx8q0By",
        "colab_type": "code",
        "colab": {
          "base_uri": "https://localhost:8080/",
          "height": 1000
        },
        "outputId": "62fce036-ca00-442c-c0cf-b5ac7d5fb9dc"
      },
      "source": [
        "# Randomized Search on small dataset to speed up\n",
        "from sklearn.model_selection import RandomizedSearchCV\n",
        "from scipy.stats import reciprocal, uniform\n",
        "\n",
        "param_distributions = {'gamma': reciprocal(0.001, 0.1), \"C\": uniform(1, 10)}\n",
        "rnd_search_cv = RandomizedSearchCV(svm_clf, param_distributions, n_iter=10, verbose=2, cv=3)\n",
        "\n",
        "rnd_search_cv.fit(X_train_scaled[:1000], y_train[:1000])"
      ],
      "execution_count": 28,
      "outputs": [
        {
          "output_type": "stream",
          "text": [
            "Fitting 3 folds for each of 10 candidates, totalling 30 fits\n",
            "[CV] C=4.24345021005274, gamma=0.0017545910486566176 .................\n"
          ],
          "name": "stdout"
        },
        {
          "output_type": "stream",
          "text": [
            "[Parallel(n_jobs=1)]: Using backend SequentialBackend with 1 concurrent workers.\n"
          ],
          "name": "stderr"
        },
        {
          "output_type": "stream",
          "text": [
            "[CV] .. C=4.24345021005274, gamma=0.0017545910486566176, total=   1.0s\n",
            "[CV] C=4.24345021005274, gamma=0.0017545910486566176 .................\n"
          ],
          "name": "stdout"
        },
        {
          "output_type": "stream",
          "text": [
            "[Parallel(n_jobs=1)]: Done   1 out of   1 | elapsed:    1.0s remaining:    0.0s\n"
          ],
          "name": "stderr"
        },
        {
          "output_type": "stream",
          "text": [
            "[CV] .. C=4.24345021005274, gamma=0.0017545910486566176, total=   1.0s\n",
            "[CV] C=4.24345021005274, gamma=0.0017545910486566176 .................\n",
            "[CV] .. C=4.24345021005274, gamma=0.0017545910486566176, total=   1.0s\n",
            "[CV] C=4.562978380769749, gamma=0.0651113774533281 ...................\n",
            "[CV] .... C=4.562978380769749, gamma=0.0651113774533281, total=   1.3s\n",
            "[CV] C=4.562978380769749, gamma=0.0651113774533281 ...................\n",
            "[CV] .... C=4.562978380769749, gamma=0.0651113774533281, total=   1.3s\n",
            "[CV] C=4.562978380769749, gamma=0.0651113774533281 ...................\n",
            "[CV] .... C=4.562978380769749, gamma=0.0651113774533281, total=   1.3s\n",
            "[CV] C=3.721322493846353, gamma=0.019741504223018503 .................\n",
            "[CV] .. C=3.721322493846353, gamma=0.019741504223018503, total=   1.3s\n",
            "[CV] C=3.721322493846353, gamma=0.019741504223018503 .................\n",
            "[CV] .. C=3.721322493846353, gamma=0.019741504223018503, total=   1.3s\n",
            "[CV] C=3.721322493846353, gamma=0.019741504223018503 .................\n",
            "[CV] .. C=3.721322493846353, gamma=0.019741504223018503, total=   1.3s\n",
            "[CV] C=1.0052037699531582, gamma=0.005071514980544012 ................\n",
            "[CV] . C=1.0052037699531582, gamma=0.005071514980544012, total=   1.2s\n",
            "[CV] C=1.0052037699531582, gamma=0.005071514980544012 ................\n",
            "[CV] . C=1.0052037699531582, gamma=0.005071514980544012, total=   1.2s\n",
            "[CV] C=1.0052037699531582, gamma=0.005071514980544012 ................\n",
            "[CV] . C=1.0052037699531582, gamma=0.005071514980544012, total=   1.2s\n",
            "[CV] C=4.04781258158029, gamma=0.0021345764135358544 .................\n",
            "[CV] .. C=4.04781258158029, gamma=0.0021345764135358544, total=   1.1s\n",
            "[CV] C=4.04781258158029, gamma=0.0021345764135358544 .................\n",
            "[CV] .. C=4.04781258158029, gamma=0.0021345764135358544, total=   1.1s\n",
            "[CV] C=4.04781258158029, gamma=0.0021345764135358544 .................\n",
            "[CV] .. C=4.04781258158029, gamma=0.0021345764135358544, total=   1.1s\n",
            "[CV] C=6.340894193754419, gamma=0.009325238385910692 .................\n",
            "[CV] .. C=6.340894193754419, gamma=0.009325238385910692, total=   1.3s\n",
            "[CV] C=6.340894193754419, gamma=0.009325238385910692 .................\n",
            "[CV] .. C=6.340894193754419, gamma=0.009325238385910692, total=   1.3s\n",
            "[CV] C=6.340894193754419, gamma=0.009325238385910692 .................\n",
            "[CV] .. C=6.340894193754419, gamma=0.009325238385910692, total=   1.3s\n",
            "[CV] C=7.924360328902703, gamma=0.0034579974413759974 ................\n",
            "[CV] . C=7.924360328902703, gamma=0.0034579974413759974, total=   1.2s\n",
            "[CV] C=7.924360328902703, gamma=0.0034579974413759974 ................\n",
            "[CV] . C=7.924360328902703, gamma=0.0034579974413759974, total=   1.2s\n",
            "[CV] C=7.924360328902703, gamma=0.0034579974413759974 ................\n",
            "[CV] . C=7.924360328902703, gamma=0.0034579974413759974, total=   1.2s\n",
            "[CV] C=3.441255222477742, gamma=0.002170611423797725 .................\n",
            "[CV] .. C=3.441255222477742, gamma=0.002170611423797725, total=   1.1s\n",
            "[CV] C=3.441255222477742, gamma=0.002170611423797725 .................\n",
            "[CV] .. C=3.441255222477742, gamma=0.002170611423797725, total=   1.1s\n",
            "[CV] C=3.441255222477742, gamma=0.002170611423797725 .................\n",
            "[CV] .. C=3.441255222477742, gamma=0.002170611423797725, total=   1.1s\n",
            "[CV] C=3.187642195730702, gamma=0.013067845885955914 .................\n",
            "[CV] .. C=3.187642195730702, gamma=0.013067845885955914, total=   1.3s\n",
            "[CV] C=3.187642195730702, gamma=0.013067845885955914 .................\n",
            "[CV] .. C=3.187642195730702, gamma=0.013067845885955914, total=   1.3s\n",
            "[CV] C=3.187642195730702, gamma=0.013067845885955914 .................\n",
            "[CV] .. C=3.187642195730702, gamma=0.013067845885955914, total=   1.3s\n",
            "[CV] C=5.038361710580408, gamma=0.0013482936657421465 ................\n",
            "[CV] . C=5.038361710580408, gamma=0.0013482936657421465, total=   1.0s\n",
            "[CV] C=5.038361710580408, gamma=0.0013482936657421465 ................\n",
            "[CV] . C=5.038361710580408, gamma=0.0013482936657421465, total=   0.9s\n",
            "[CV] C=5.038361710580408, gamma=0.0013482936657421465 ................\n",
            "[CV] . C=5.038361710580408, gamma=0.0013482936657421465, total=   0.9s\n"
          ],
          "name": "stdout"
        },
        {
          "output_type": "stream",
          "text": [
            "[Parallel(n_jobs=1)]: Done  30 out of  30 | elapsed:   34.9s finished\n"
          ],
          "name": "stderr"
        },
        {
          "output_type": "execute_result",
          "data": {
            "text/plain": [
              "RandomizedSearchCV(cv=3, error_score=nan,\n",
              "                   estimator=SVC(C=1.0, break_ties=False, cache_size=200,\n",
              "                                 class_weight=None, coef0=0.0,\n",
              "                                 decision_function_shape='ovr', degree=3,\n",
              "                                 gamma='scale', kernel='rbf', max_iter=-1,\n",
              "                                 probability=False, random_state=None,\n",
              "                                 shrinking=True, tol=0.001, verbose=False),\n",
              "                   iid='deprecated', n_iter=10, n_jobs=None,\n",
              "                   param_distributions={'C': <scipy.stats._distn_infrastructure.rv_frozen object at 0x7fb436fbdac8>,\n",
              "                                        'gamma': <scipy.stats._distn_infrastructure.rv_frozen object at 0x7fb436fbdcf8>},\n",
              "                   pre_dispatch='2*n_jobs', random_state=None, refit=True,\n",
              "                   return_train_score=False, scoring=None, verbose=2)"
            ]
          },
          "metadata": {
            "tags": []
          },
          "execution_count": 28
        }
      ]
    },
    {
      "cell_type": "code",
      "metadata": {
        "id": "tufTLjsIrZm9",
        "colab_type": "code",
        "colab": {
          "base_uri": "https://localhost:8080/",
          "height": 86
        },
        "outputId": "bc4aaff8-985f-49ec-85b4-2bc1d6887ec1"
      },
      "source": [
        "rnd_search_cv.best_estimator_"
      ],
      "execution_count": 29,
      "outputs": [
        {
          "output_type": "execute_result",
          "data": {
            "text/plain": [
              "SVC(C=5.038361710580408, break_ties=False, cache_size=200, class_weight=None,\n",
              "    coef0=0.0, decision_function_shape='ovr', degree=3,\n",
              "    gamma=0.0013482936657421465, kernel='rbf', max_iter=-1, probability=False,\n",
              "    random_state=None, shrinking=True, tol=0.001, verbose=False)"
            ]
          },
          "metadata": {
            "tags": []
          },
          "execution_count": 29
        }
      ]
    },
    {
      "cell_type": "code",
      "metadata": {
        "id": "X8jmEfAbrdPn",
        "colab_type": "code",
        "colab": {
          "base_uri": "https://localhost:8080/",
          "height": 34
        },
        "outputId": "219dcd6f-a118-46d4-e884-0f0cd728f3fa"
      },
      "source": [
        "rnd_search_cv.best_score_"
      ],
      "execution_count": 30,
      "outputs": [
        {
          "output_type": "execute_result",
          "data": {
            "text/plain": [
              "0.8619907332482183"
            ]
          },
          "metadata": {
            "tags": []
          },
          "execution_count": 30
        }
      ]
    },
    {
      "cell_type": "code",
      "metadata": {
        "id": "7VtEVdsfrgnq",
        "colab_type": "code",
        "colab": {
          "base_uri": "https://localhost:8080/",
          "height": 86
        },
        "outputId": "30c49a43-aeaf-4d12-b097-0c8b70fcb323"
      },
      "source": [
        "rnd_search_cv.best_estimator_.fit(X_train_scaled, y_train)"
      ],
      "execution_count": 31,
      "outputs": [
        {
          "output_type": "execute_result",
          "data": {
            "text/plain": [
              "SVC(C=5.038361710580408, break_ties=False, cache_size=200, class_weight=None,\n",
              "    coef0=0.0, decision_function_shape='ovr', degree=3,\n",
              "    gamma=0.0013482936657421465, kernel='rbf', max_iter=-1, probability=False,\n",
              "    random_state=None, shrinking=True, tol=0.001, verbose=False)"
            ]
          },
          "metadata": {
            "tags": []
          },
          "execution_count": 31
        }
      ]
    },
    {
      "cell_type": "code",
      "metadata": {
        "id": "Y06YG3Bbrneu",
        "colab_type": "code",
        "colab": {
          "base_uri": "https://localhost:8080/",
          "height": 34
        },
        "outputId": "ceee4c05-8670-4d08-9c21-94333501a4fe"
      },
      "source": [
        "y_pred = rnd_search_cv.best_estimator_.predict(X_train_scaled)\n",
        "accuracy_score(y_train, y_pred)"
      ],
      "execution_count": 32,
      "outputs": [
        {
          "output_type": "execute_result",
          "data": {
            "text/plain": [
              "0.9975333333333334"
            ]
          },
          "metadata": {
            "tags": []
          },
          "execution_count": 32
        }
      ]
    },
    {
      "cell_type": "code",
      "metadata": {
        "id": "M66iVzgfrxTe",
        "colab_type": "code",
        "colab": {
          "base_uri": "https://localhost:8080/",
          "height": 34
        },
        "outputId": "0248e267-d7d5-4a92-ef60-2be83114fa44"
      },
      "source": [
        "y_pred = rnd_search_cv.best_estimator_.predict(X_test_scaled)\n",
        "accuracy_score(y_test, y_pred)"
      ],
      "execution_count": 33,
      "outputs": [
        {
          "output_type": "execute_result",
          "data": {
            "text/plain": [
              "0.9729"
            ]
          },
          "metadata": {
            "tags": []
          },
          "execution_count": 33
        }
      ]
    },
    {
      "cell_type": "code",
      "metadata": {
        "id": "6VUxg-aOr4x-",
        "colab_type": "code",
        "colab": {
          "base_uri": "https://localhost:8080/",
          "height": 54
        },
        "outputId": "bdb394cb-b0e5-492d-bf44-ed05583e64de"
      },
      "source": [
        "# Question 10\n",
        "housing = datasets.fetch_california_housing()\n",
        "X = housing['data']\n",
        "y = housing['target']"
      ],
      "execution_count": 34,
      "outputs": [
        {
          "output_type": "stream",
          "text": [
            "Downloading Cal. housing from https://ndownloader.figshare.com/files/5976036 to /root/scikit_learn_data\n"
          ],
          "name": "stderr"
        }
      ]
    },
    {
      "cell_type": "code",
      "metadata": {
        "id": "lE9-XFkUsKpe",
        "colab_type": "code",
        "colab": {}
      },
      "source": [
        "from sklearn.model_selection import train_test_split\n",
        "\n",
        "X_train, X_test, y_train, y_test = train_test_split(X, y, test_size=0.2, random_state=42)"
      ],
      "execution_count": 0,
      "outputs": []
    },
    {
      "cell_type": "code",
      "metadata": {
        "id": "cpsB8-mUsqla",
        "colab_type": "code",
        "colab": {}
      },
      "source": [
        "from sklearn.preprocessing import StandardScaler\n",
        "\n",
        "scaler = StandardScaler()\n",
        "X_train_scaled = scaler.fit_transform(X_train)\n",
        "X_test_scaled = scaler.transform(X_test)"
      ],
      "execution_count": 0,
      "outputs": []
    },
    {
      "cell_type": "code",
      "metadata": {
        "id": "iJxbkOYss64O",
        "colab_type": "code",
        "colab": {
          "base_uri": "https://localhost:8080/",
          "height": 124
        },
        "outputId": "ee661f0b-72f6-4360-b448-5f738eafc517"
      },
      "source": [
        "from sklearn.svm import LinearSVR\n",
        "\n",
        "lin_svr = LinearSVR(random_state=42)\n",
        "lin_svr.fit(X_train_scaled, y_train)"
      ],
      "execution_count": 37,
      "outputs": [
        {
          "output_type": "stream",
          "text": [
            "/usr/local/lib/python3.6/dist-packages/sklearn/svm/_base.py:947: ConvergenceWarning: Liblinear failed to converge, increase the number of iterations.\n",
            "  \"the number of iterations.\", ConvergenceWarning)\n"
          ],
          "name": "stderr"
        },
        {
          "output_type": "execute_result",
          "data": {
            "text/plain": [
              "LinearSVR(C=1.0, dual=True, epsilon=0.0, fit_intercept=True,\n",
              "          intercept_scaling=1.0, loss='epsilon_insensitive', max_iter=1000,\n",
              "          random_state=42, tol=0.0001, verbose=0)"
            ]
          },
          "metadata": {
            "tags": []
          },
          "execution_count": 37
        }
      ]
    },
    {
      "cell_type": "code",
      "metadata": {
        "id": "ii9Jq8ovtFlo",
        "colab_type": "code",
        "colab": {
          "base_uri": "https://localhost:8080/",
          "height": 34
        },
        "outputId": "d6a595d8-cd42-4ed1-eaf6-6177980a28fe"
      },
      "source": [
        "from sklearn.metrics import mean_squared_error\n",
        "\n",
        "y_pred = lin_svr.predict(X_train_scaled)\n",
        "mse = mean_squared_error(y_train, y_pred)\n",
        "mse"
      ],
      "execution_count": 38,
      "outputs": [
        {
          "output_type": "execute_result",
          "data": {
            "text/plain": [
              "0.949968822217229"
            ]
          },
          "metadata": {
            "tags": []
          },
          "execution_count": 38
        }
      ]
    },
    {
      "cell_type": "code",
      "metadata": {
        "id": "NeToP4g8tUfB",
        "colab_type": "code",
        "colab": {
          "base_uri": "https://localhost:8080/",
          "height": 34
        },
        "outputId": "8bb5fafb-b921-49cb-a38a-815db99b30ff"
      },
      "source": [
        "np.sqrt(mse)"
      ],
      "execution_count": 39,
      "outputs": [
        {
          "output_type": "execute_result",
          "data": {
            "text/plain": [
              "0.9746634404845752"
            ]
          },
          "metadata": {
            "tags": []
          },
          "execution_count": 39
        }
      ]
    },
    {
      "cell_type": "code",
      "metadata": {
        "id": "t9hQkXeAtwGI",
        "colab_type": "code",
        "colab": {
          "base_uri": "https://localhost:8080/",
          "height": 1000
        },
        "outputId": "3f1af757-7337-4207-c7c6-079590f4f659"
      },
      "source": [
        "# Try RBF kernel\n",
        "param_distributions = {'gamma': reciprocal(0.001, 0.1), 'C': uniform(1,  10)}\n",
        "rnd_search_cv = RandomizedSearchCV(SVR(), param_distributions, n_iter=10, verbose=2, cv=3, random_state=42)\n",
        "rnd_search_cv.fit(X_train_scaled, y_train)"
      ],
      "execution_count": 40,
      "outputs": [
        {
          "output_type": "stream",
          "text": [
            "[Parallel(n_jobs=1)]: Using backend SequentialBackend with 1 concurrent workers.\n"
          ],
          "name": "stderr"
        },
        {
          "output_type": "stream",
          "text": [
            "Fitting 3 folds for each of 10 candidates, totalling 30 fits\n",
            "[CV] C=4.745401188473625, gamma=0.07969454818643928 ..................\n",
            "[CV] ... C=4.745401188473625, gamma=0.07969454818643928, total=  10.5s\n",
            "[CV] C=4.745401188473625, gamma=0.07969454818643928 ..................\n"
          ],
          "name": "stdout"
        },
        {
          "output_type": "stream",
          "text": [
            "[Parallel(n_jobs=1)]: Done   1 out of   1 | elapsed:   10.5s remaining:    0.0s\n"
          ],
          "name": "stderr"
        },
        {
          "output_type": "stream",
          "text": [
            "[CV] ... C=4.745401188473625, gamma=0.07969454818643928, total=  10.3s\n",
            "[CV] C=4.745401188473625, gamma=0.07969454818643928 ..................\n",
            "[CV] ... C=4.745401188473625, gamma=0.07969454818643928, total=  10.4s\n",
            "[CV] C=8.31993941811405, gamma=0.015751320499779724 ..................\n",
            "[CV] ... C=8.31993941811405, gamma=0.015751320499779724, total=   9.7s\n",
            "[CV] C=8.31993941811405, gamma=0.015751320499779724 ..................\n",
            "[CV] ... C=8.31993941811405, gamma=0.015751320499779724, total=   9.5s\n",
            "[CV] C=8.31993941811405, gamma=0.015751320499779724 ..................\n",
            "[CV] ... C=8.31993941811405, gamma=0.015751320499779724, total=   9.6s\n",
            "[CV] C=2.560186404424365, gamma=0.002051110418843397 .................\n",
            "[CV] .. C=2.560186404424365, gamma=0.002051110418843397, total=   8.7s\n",
            "[CV] C=2.560186404424365, gamma=0.002051110418843397 .................\n",
            "[CV] .. C=2.560186404424365, gamma=0.002051110418843397, total=   8.7s\n",
            "[CV] C=2.560186404424365, gamma=0.002051110418843397 .................\n",
            "[CV] .. C=2.560186404424365, gamma=0.002051110418843397, total=   8.8s\n",
            "[CV] C=1.5808361216819946, gamma=0.05399484409787431 .................\n",
            "[CV] .. C=1.5808361216819946, gamma=0.05399484409787431, total=   8.7s\n",
            "[CV] C=1.5808361216819946, gamma=0.05399484409787431 .................\n",
            "[CV] .. C=1.5808361216819946, gamma=0.05399484409787431, total=   8.7s\n",
            "[CV] C=1.5808361216819946, gamma=0.05399484409787431 .................\n",
            "[CV] .. C=1.5808361216819946, gamma=0.05399484409787431, total=   8.8s\n",
            "[CV] C=7.011150117432088, gamma=0.026070247583707663 .................\n",
            "[CV] .. C=7.011150117432088, gamma=0.026070247583707663, total=   9.6s\n",
            "[CV] C=7.011150117432088, gamma=0.026070247583707663 .................\n",
            "[CV] .. C=7.011150117432088, gamma=0.026070247583707663, total=   9.7s\n",
            "[CV] C=7.011150117432088, gamma=0.026070247583707663 .................\n",
            "[CV] .. C=7.011150117432088, gamma=0.026070247583707663, total=   9.8s\n",
            "[CV] C=1.2058449429580245, gamma=0.0870602087830485 ..................\n",
            "[CV] ... C=1.2058449429580245, gamma=0.0870602087830485, total=   8.6s\n",
            "[CV] C=1.2058449429580245, gamma=0.0870602087830485 ..................\n",
            "[CV] ... C=1.2058449429580245, gamma=0.0870602087830485, total=   8.7s\n",
            "[CV] C=1.2058449429580245, gamma=0.0870602087830485 ..................\n",
            "[CV] ... C=1.2058449429580245, gamma=0.0870602087830485, total=   8.6s\n",
            "[CV] C=9.324426408004218, gamma=0.0026587543983272693 ................\n",
            "[CV] . C=9.324426408004218, gamma=0.0026587543983272693, total=   9.0s\n",
            "[CV] C=9.324426408004218, gamma=0.0026587543983272693 ................\n",
            "[CV] . C=9.324426408004218, gamma=0.0026587543983272693, total=   8.9s\n",
            "[CV] C=9.324426408004218, gamma=0.0026587543983272693 ................\n",
            "[CV] . C=9.324426408004218, gamma=0.0026587543983272693, total=   8.9s\n",
            "[CV] C=2.818249672071006, gamma=0.0023270677083837795 ................\n",
            "[CV] . C=2.818249672071006, gamma=0.0023270677083837795, total=   8.7s\n",
            "[CV] C=2.818249672071006, gamma=0.0023270677083837795 ................\n",
            "[CV] . C=2.818249672071006, gamma=0.0023270677083837795, total=   8.7s\n",
            "[CV] C=2.818249672071006, gamma=0.0023270677083837795 ................\n",
            "[CV] . C=2.818249672071006, gamma=0.0023270677083837795, total=   8.7s\n",
            "[CV] C=4.042422429595377, gamma=0.011207606211860567 .................\n",
            "[CV] .. C=4.042422429595377, gamma=0.011207606211860567, total=   8.8s\n",
            "[CV] C=4.042422429595377, gamma=0.011207606211860567 .................\n",
            "[CV] .. C=4.042422429595377, gamma=0.011207606211860567, total=   8.8s\n",
            "[CV] C=4.042422429595377, gamma=0.011207606211860567 .................\n",
            "[CV] .. C=4.042422429595377, gamma=0.011207606211860567, total=   8.9s\n",
            "[CV] C=5.319450186421157, gamma=0.003823475224675185 .................\n",
            "[CV] .. C=5.319450186421157, gamma=0.003823475224675185, total=   8.7s\n",
            "[CV] C=5.319450186421157, gamma=0.003823475224675185 .................\n",
            "[CV] .. C=5.319450186421157, gamma=0.003823475224675185, total=   8.8s\n",
            "[CV] C=5.319450186421157, gamma=0.003823475224675185 .................\n",
            "[CV] .. C=5.319450186421157, gamma=0.003823475224675185, total=   8.8s\n"
          ],
          "name": "stdout"
        },
        {
          "output_type": "stream",
          "text": [
            "[Parallel(n_jobs=1)]: Done  30 out of  30 | elapsed:  4.6min finished\n"
          ],
          "name": "stderr"
        },
        {
          "output_type": "execute_result",
          "data": {
            "text/plain": [
              "RandomizedSearchCV(cv=3, error_score=nan,\n",
              "                   estimator=SVR(C=1.0, cache_size=200, coef0=0.0, degree=3,\n",
              "                                 epsilon=0.1, gamma='scale', kernel='rbf',\n",
              "                                 max_iter=-1, shrinking=True, tol=0.001,\n",
              "                                 verbose=False),\n",
              "                   iid='deprecated', n_iter=10, n_jobs=None,\n",
              "                   param_distributions={'C': <scipy.stats._distn_infrastructure.rv_frozen object at 0x7fb437253ac8>,\n",
              "                                        'gamma': <scipy.stats._distn_infrastructure.rv_frozen object at 0x7fb437037e10>},\n",
              "                   pre_dispatch='2*n_jobs', random_state=42, refit=True,\n",
              "                   return_train_score=False, scoring=None, verbose=2)"
            ]
          },
          "metadata": {
            "tags": []
          },
          "execution_count": 40
        }
      ]
    },
    {
      "cell_type": "code",
      "metadata": {
        "id": "E400E11Mxe3Z",
        "colab_type": "code",
        "colab": {
          "base_uri": "https://localhost:8080/",
          "height": 69
        },
        "outputId": "edc44ed2-b4c8-47a4-a872-5b5ab6db0727"
      },
      "source": [
        "rnd_search_cv.best_estimator_"
      ],
      "execution_count": 41,
      "outputs": [
        {
          "output_type": "execute_result",
          "data": {
            "text/plain": [
              "SVR(C=4.745401188473625, cache_size=200, coef0=0.0, degree=3, epsilon=0.1,\n",
              "    gamma=0.07969454818643928, kernel='rbf', max_iter=-1, shrinking=True,\n",
              "    tol=0.001, verbose=False)"
            ]
          },
          "metadata": {
            "tags": []
          },
          "execution_count": 41
        }
      ]
    },
    {
      "cell_type": "code",
      "metadata": {
        "id": "cf_CdWDHx2eB",
        "colab_type": "code",
        "colab": {
          "base_uri": "https://localhost:8080/",
          "height": 34
        },
        "outputId": "28f138f6-cb77-4f8c-a58f-678fa49347c1"
      },
      "source": [
        "y_pred = rnd_search_cv.best_estimator_.predict(X_train_scaled)\n",
        "mse = mean_squared_error(y_train, y_pred)\n",
        "np.sqrt(mse)"
      ],
      "execution_count": 42,
      "outputs": [
        {
          "output_type": "execute_result",
          "data": {
            "text/plain": [
              "0.5727524770785356"
            ]
          },
          "metadata": {
            "tags": []
          },
          "execution_count": 42
        }
      ]
    },
    {
      "cell_type": "code",
      "metadata": {
        "id": "9EQkWgqJx_FV",
        "colab_type": "code",
        "colab": {
          "base_uri": "https://localhost:8080/",
          "height": 34
        },
        "outputId": "03f61515-84ed-4c60-d8bf-ad9d28b4ded7"
      },
      "source": [
        "y_pred = rnd_search_cv.best_estimator_.predict(X_test_scaled)\n",
        "mse = mean_squared_error(y_test, y_pred)\n",
        "np.sqrt(mse)"
      ],
      "execution_count": 43,
      "outputs": [
        {
          "output_type": "execute_result",
          "data": {
            "text/plain": [
              "0.592916838552874"
            ]
          },
          "metadata": {
            "tags": []
          },
          "execution_count": 43
        }
      ]
    },
    {
      "cell_type": "code",
      "metadata": {
        "id": "nZF-KhK1yHQI",
        "colab_type": "code",
        "colab": {}
      },
      "source": [
        ""
      ],
      "execution_count": 0,
      "outputs": []
    }
  ]
}