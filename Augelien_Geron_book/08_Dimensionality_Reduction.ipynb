{
  "nbformat": 4,
  "nbformat_minor": 0,
  "metadata": {
    "colab": {
      "name": "08_Dimensionality_Reduction.ipynb",
      "provenance": [],
      "authorship_tag": "ABX9TyPWclrikX9s27TNlNM0jBY5",
      "include_colab_link": true
    },
    "kernelspec": {
      "name": "python3",
      "display_name": "Python 3"
    }
  },
  "cells": [
    {
      "cell_type": "markdown",
      "metadata": {
        "id": "view-in-github",
        "colab_type": "text"
      },
      "source": [
        "<a href=\"https://colab.research.google.com/github/TamTran72111/learn-ml-dl/blob/master/Augelien_Geron_book/08_Dimensionality_Reduction.ipynb\" target=\"_parent\"><img src=\"https://colab.research.google.com/assets/colab-badge.svg\" alt=\"Open In Colab\"/></a>"
      ]
    },
    {
      "cell_type": "markdown",
      "metadata": {
        "id": "4zOXtZ-b2rij",
        "colab_type": "text"
      },
      "source": [
        "<font color='red'><b><h3>PCA</h3></b></font>"
      ]
    },
    {
      "cell_type": "markdown",
      "metadata": {
        "id": "S5F1qHy67VsT",
        "colab_type": "text"
      },
      "source": [
        "*Principal Component Analysis*"
      ]
    },
    {
      "cell_type": "code",
      "metadata": {
        "id": "PRNu9AA0xhhK",
        "colab_type": "code",
        "colab": {}
      },
      "source": [
        "import numpy as np\n",
        "%matplotlib inline\n",
        "import matplotlib.pyplot as plt\n",
        "import matplotlib as mpl\n",
        "\n",
        "np.random.seed(4)\n",
        "m = 60\n",
        "w1, w2 = 0.1, 0.3\n",
        "noise = 0.1\n",
        "\n",
        "angles = np.random.rand(m) * 3 * np.pi / 2 - 0.5\n",
        "X = np.empty((m, 3))\n",
        "X[:, 0] = np.cos(angles) + np.sin(angles) / 2 + noise * np.random.randn(m) / 2\n",
        "X[:, 1] = np.sin(angles) * 0.7 + noise * np.random.randn(m) / 2\n",
        "X[:, 2] = X[:, 0] * w1 + X[:, 1] * w2 + noise * np.random.randn(m)"
      ],
      "execution_count": null,
      "outputs": []
    },
    {
      "cell_type": "code",
      "metadata": {
        "id": "kBW1stj_F11U",
        "colab_type": "code",
        "colab": {}
      },
      "source": [
        "# SVD\n",
        "X_centered = X - X.mean(axis=0)\n",
        "U, s, Vt = np.linalg.svd(X_centered)\n",
        "c1 = Vt.T[:, 0]\n",
        "c2 = Vt.T[:, 1]"
      ],
      "execution_count": null,
      "outputs": []
    },
    {
      "cell_type": "code",
      "metadata": {
        "id": "MIgWfwcfGGKL",
        "colab_type": "code",
        "colab": {}
      },
      "source": [
        "W2 = Vt.T[:, :2]\n",
        "X2D_svd = X_centered.dot(W2)"
      ],
      "execution_count": null,
      "outputs": []
    },
    {
      "cell_type": "code",
      "metadata": {
        "id": "5PiP_Bc-G-nv",
        "colab_type": "code",
        "colab": {
          "base_uri": "https://localhost:8080/",
          "height": 104
        },
        "outputId": "7b561e8a-1d32-41cf-e4c2-deaeaaec9659"
      },
      "source": [
        "X2D_svd[:5]"
      ],
      "execution_count": null,
      "outputs": [
        {
          "output_type": "execute_result",
          "data": {
            "text/plain": [
              "array([[-1.26203346, -0.42067648],\n",
              "       [ 0.08001485,  0.35272239],\n",
              "       [-1.17545763, -0.36085729],\n",
              "       [-0.89305601,  0.30862856],\n",
              "       [-0.73016287,  0.25404049]])"
            ]
          },
          "metadata": {
            "tags": []
          },
          "execution_count": 4
        }
      ]
    },
    {
      "cell_type": "code",
      "metadata": {
        "id": "tFNRzPqWGHIP",
        "colab_type": "code",
        "colab": {}
      },
      "source": [
        "# PCA using Scikit-Learn\n",
        "from sklearn.decomposition import PCA\n",
        "\n",
        "pca = PCA(n_components=2)\n",
        "X2D = pca.fit_transform(X)"
      ],
      "execution_count": null,
      "outputs": []
    },
    {
      "cell_type": "code",
      "metadata": {
        "id": "dC_MiR_5Gyuv",
        "colab_type": "code",
        "colab": {
          "base_uri": "https://localhost:8080/",
          "height": 104
        },
        "outputId": "ad229c25-26b3-4ac7-8746-9f5ea871a06d"
      },
      "source": [
        "X2D[:5]"
      ],
      "execution_count": null,
      "outputs": [
        {
          "output_type": "execute_result",
          "data": {
            "text/plain": [
              "array([[ 1.26203346,  0.42067648],\n",
              "       [-0.08001485, -0.35272239],\n",
              "       [ 1.17545763,  0.36085729],\n",
              "       [ 0.89305601, -0.30862856],\n",
              "       [ 0.73016287, -0.25404049]])"
            ]
          },
          "metadata": {
            "tags": []
          },
          "execution_count": 6
        }
      ]
    },
    {
      "cell_type": "code",
      "metadata": {
        "id": "bOgH6DEDHBEE",
        "colab_type": "code",
        "colab": {
          "base_uri": "https://localhost:8080/",
          "height": 34
        },
        "outputId": "ce801aa1-5c0e-4c3c-ac09-5b562ad5be60"
      },
      "source": [
        "pca.explained_variance_ratio_"
      ],
      "execution_count": null,
      "outputs": [
        {
          "output_type": "execute_result",
          "data": {
            "text/plain": [
              "array([0.84248607, 0.14631839])"
            ]
          },
          "metadata": {
            "tags": []
          },
          "execution_count": 7
        }
      ]
    },
    {
      "cell_type": "code",
      "metadata": {
        "id": "0kbq-O3cH9AV",
        "colab_type": "code",
        "colab": {
          "base_uri": "https://localhost:8080/",
          "height": 34
        },
        "outputId": "a8989d74-8a88-441a-f1dd-f144f023d963"
      },
      "source": [
        "# Preserve 95% of training set's variance\n",
        "pca = PCA()\n",
        "pca.fit(X)\n",
        "cumsum = np.cumsum(pca.explained_variance_ratio_)\n",
        "d = np.argmax(cumsum >= 0.95) + 1\n",
        "d"
      ],
      "execution_count": null,
      "outputs": [
        {
          "output_type": "execute_result",
          "data": {
            "text/plain": [
              "2"
            ]
          },
          "metadata": {
            "tags": []
          },
          "execution_count": 8
        }
      ]
    },
    {
      "cell_type": "code",
      "metadata": {
        "id": "9KfL_YTXIiI0",
        "colab_type": "code",
        "colab": {}
      },
      "source": [
        "# Can set n_components=d and run PCA again. However,\n",
        "# the better option is set n_components to a float \n",
        "# between 0.0 and 1.0 to indicate the ratio \n",
        "pca = PCA(n_components=0.95)\n",
        "X_reduced = pca.fit_transform(X)"
      ],
      "execution_count": null,
      "outputs": []
    },
    {
      "cell_type": "code",
      "metadata": {
        "id": "Rukl4m1_JDI0",
        "colab_type": "code",
        "colab": {
          "base_uri": "https://localhost:8080/",
          "height": 34
        },
        "outputId": "2c82def9-e505-45d5-b766-6259c0033432"
      },
      "source": [
        "pca.explained_variance_ratio_"
      ],
      "execution_count": null,
      "outputs": [
        {
          "output_type": "execute_result",
          "data": {
            "text/plain": [
              "array([0.84248607, 0.14631839])"
            ]
          },
          "metadata": {
            "tags": []
          },
          "execution_count": 10
        }
      ]
    },
    {
      "cell_type": "code",
      "metadata": {
        "id": "BPZjVoI-JGQ6",
        "colab_type": "code",
        "colab": {}
      },
      "source": [
        "from sklearn.datasets import fetch_openml\n",
        "\n",
        "mnist = fetch_openml('mnist_784', version=1)\n",
        "mnist.target = mnist.target.astype(np.uint8)\n",
        "\n",
        "from sklearn.model_selection import train_test_split\n",
        "\n",
        "X = mnist.data\n",
        "y = mnist.target\n",
        "\n",
        "X_train, X_test, y_train, y_test = train_test_split(X, y)"
      ],
      "execution_count": null,
      "outputs": []
    },
    {
      "cell_type": "code",
      "metadata": {
        "id": "4nMGO52NJxGw",
        "colab_type": "code",
        "colab": {}
      },
      "source": [
        "pca = PCA()\n",
        "pca.fit(X_train)\n",
        "cumsum = np.cumsum(pca.explained_variance_ratio_)\n",
        "d = np.argmax(cumsum >= 0.95) + 1"
      ],
      "execution_count": null,
      "outputs": []
    },
    {
      "cell_type": "code",
      "metadata": {
        "id": "NVTzy_K5J8bq",
        "colab_type": "code",
        "colab": {
          "base_uri": "https://localhost:8080/",
          "height": 283
        },
        "outputId": "7acbdd4a-191f-4d83-9491-6627579f6045"
      },
      "source": [
        "plt.figure(figsize=(6, 4))\n",
        "plt.plot(cumsum, linewidth=3)\n",
        "plt.axis([0, 400, 0 ,1])\n",
        "plt.xlabel('Dimensions')\n",
        "plt.ylabel('Explained Variance')\n",
        "plt.plot([d, d], [0, 0.95], 'k:')\n",
        "plt.plot([0, d], [0.95, 0.95], 'k:')\n",
        "plt.plot(d, 0,95, 'ko')\n",
        "plt.annotate('Elbow', xy=(65, 0.85), xytext=(70, 0.7),\n",
        "             arrowprops=dict(arrowstyle='->'), fontsize=16)\n",
        "plt.grid(True)\n",
        "plt.show()"
      ],
      "execution_count": null,
      "outputs": [
        {
          "output_type": "display_data",
          "data": {
            "image/png": "[encoded data removed]",
            "text/plain": [
              "<Figure size 432x288 with 1 Axes>"
            ]
          },
          "metadata": {
            "tags": [],
            "needs_background": "light"
          }
        }
      ]
    },
    {
      "cell_type": "code",
      "metadata": {
        "id": "xCzeAXGgPQ4C",
        "colab_type": "code",
        "colab": {}
      },
      "source": [
        "pca = PCA(n_components=154)\n",
        "X_reduced = pca.fit_transform(X_train)\n",
        "X_recoverd = pca.inverse_transform(X_reduced)"
      ],
      "execution_count": null,
      "outputs": []
    },
    {
      "cell_type": "code",
      "metadata": {
        "id": "IcVVo3yBQI8r",
        "colab_type": "code",
        "colab": {
          "base_uri": "https://localhost:8080/",
          "height": 34
        },
        "outputId": "7e44123f-db14-48be-a6f8-0a7afd2361ae"
      },
      "source": [
        "from sklearn.metrics import mean_squared_error\n",
        "\n",
        "mean_squared_error(X_train, X_recoverd)"
      ],
      "execution_count": null,
      "outputs": [
        {
          "output_type": "execute_result",
          "data": {
            "text/plain": [
              "218.72652014057726"
            ]
          },
          "metadata": {
            "tags": []
          },
          "execution_count": 15
        }
      ]
    },
    {
      "cell_type": "markdown",
      "metadata": {
        "id": "COQ-rLcNUabM",
        "colab_type": "text"
      },
      "source": [
        "**Incremental PCA**\n",
        "\n",
        "It is useful for large training sets (not fit in memory) and for applying PCA online"
      ]
    },
    {
      "cell_type": "code",
      "metadata": {
        "id": "02Fp1RXzQPqx",
        "colab_type": "code",
        "colab": {}
      },
      "source": [
        "from sklearn.decomposition import IncrementalPCA\n",
        "\n",
        "n_batches = 100\n",
        "inc_pca = IncrementalPCA(n_components=154)\n",
        "for X_batch in np.array_split(X_train, n_batches):\n",
        "  inc_pca.partial_fit(X_batch)\n",
        "\n",
        "X_reduced_inc = inc_pca.transform(X_train)"
      ],
      "execution_count": null,
      "outputs": []
    },
    {
      "cell_type": "code",
      "metadata": {
        "id": "I2QZqWQhYVKY",
        "colab_type": "code",
        "colab": {
          "base_uri": "https://localhost:8080/",
          "height": 34
        },
        "outputId": "91040871-8b9a-42ef-ca30-3311c82dba6c"
      },
      "source": [
        "mean_squared_error(X_reduced, X_reduced_inc)"
      ],
      "execution_count": null,
      "outputs": [
        {
          "output_type": "execute_result",
          "data": {
            "text/plain": [
              "43265.141597601025"
            ]
          },
          "metadata": {
            "tags": []
          },
          "execution_count": 17
        }
      ]
    },
    {
      "cell_type": "code",
      "metadata": {
        "id": "NLGu13WGYaEj",
        "colab_type": "code",
        "colab": {}
      },
      "source": [
        "## Alternatives\n",
        "# X_mm = np.memmep(filename, dytpe='float32', mode='readonly', shape=(m, n))\n",
        "#\n",
        "# batch_size = m // n_batches\n",
        "# inc_pca = IncrementalPCA(n_components=154, batch_size=batch_size)\n",
        "# inc_pca.fit(X_mm)"
      ],
      "execution_count": null,
      "outputs": []
    },
    {
      "cell_type": "markdown",
      "metadata": {
        "id": "DruOTDbMdyyO",
        "colab_type": "text"
      },
      "source": [
        "**Kernel PCA**"
      ]
    },
    {
      "cell_type": "code",
      "metadata": {
        "id": "2Vcbk9rkdR-Z",
        "colab_type": "code",
        "colab": {}
      },
      "source": [
        "from sklearn.decomposition import KernelPCA\n",
        "\n",
        "rbf_pca = KernelPCA(n_components=2, kernel='rbf', gamma=0.04)\n",
        "X_reduced = rbf_pca.fit_transform(X)"
      ],
      "execution_count": null,
      "outputs": []
    },
    {
      "cell_type": "code",
      "metadata": {
        "id": "QlWlNnpHeCUv",
        "colab_type": "code",
        "colab": {}
      },
      "source": [
        "from sklearn.model_selection import GridSearchCV\n",
        "from sklearn.linear_model import LogisticRegression\n",
        "from sklearn.pipeline import Pipeline\n",
        "\n",
        "clf = Pipeline([\n",
        "      ('kpca', KernelPCA(n_components=2)),\n",
        "      ('log_reg', LogisticRegression()),\n",
        "])\n",
        "\n",
        "param_grid = [{\n",
        "    'kpca__gamma': np.linspace(0.03, 0.05, 10),\n",
        "    'kpca__kernel': ['rbf', 'sigmoid']\n",
        "}]\n",
        "\n",
        "grid_search = GridSearchCV(clf, param_grid, cv=3)\n",
        "grid_search.fit(X, y)"
      ],
      "execution_count": null,
      "outputs": []
    },
    {
      "cell_type": "markdown",
      "metadata": {
        "id": "m-6AA2_1hcVm",
        "colab_type": "text"
      },
      "source": [
        "<font color='red'><b><h3>LLE</h3></b></font>\n",
        "\n",
        "*Locally Linear Embedding*"
      ]
    },
    {
      "cell_type": "code",
      "metadata": {
        "id": "KUwrkGQ3f2dX",
        "colab_type": "code",
        "colab": {}
      },
      "source": [
        "from sklearn.manifold import LocallyLinearEmbedding\n",
        "\n",
        "lle = LocallyLinearEmbedding(n_components=2, n_neighbors=10)\n",
        "X_reduced = lle.fit_transform(X)"
      ],
      "execution_count": null,
      "outputs": []
    },
    {
      "cell_type": "markdown",
      "metadata": {
        "id": "v9dpkuy3oxEu",
        "colab_type": "text"
      },
      "source": [
        "<font color='red'><b><h3>Exercise</h3></b></font>"
      ]
    },
    {
      "cell_type": "code",
      "metadata": {
        "id": "YmUGhdxYhyJm",
        "colab_type": "code",
        "colab": {}
      },
      "source": [
        "# Question 9\n",
        "from sklearn.datasets import fetch_openml\n",
        "from sklearn.model_selection import train_test_split\n",
        "import numpy as np\n",
        "\n",
        "mnist = fetch_openml('mnist_784', version=1)\n",
        "mnist.target = mnist.target.astype(np.uint8)\n",
        "\n",
        "X_train = mnist['data'][:60_000]\n",
        "X_test = mnist['data'][60_000:]\n",
        "y_train = mnist['target'][:60_000]\n",
        "y_test = mnist['target'][60_000:]"
      ],
      "execution_count": 2,
      "outputs": []
    },
    {
      "cell_type": "code",
      "metadata": {
        "id": "Zm2w7VvPpnN8",
        "colab_type": "code",
        "colab": {}
      },
      "source": [
        "from sklearn.ensemble import RandomForestClassifier\n",
        "\n",
        "rnd_clf = RandomForestClassifier(n_estimators=100, random_state=42)"
      ],
      "execution_count": 3,
      "outputs": []
    },
    {
      "cell_type": "code",
      "metadata": {
        "id": "r-K-oHMhp0Nc",
        "colab_type": "code",
        "colab": {}
      },
      "source": [
        "import time\n",
        "\n",
        "start_time = time.time()\n",
        "rnd_clf.fit(X_train, y_train)\n",
        "end_time = time.time()"
      ],
      "execution_count": 4,
      "outputs": []
    },
    {
      "cell_type": "code",
      "metadata": {
        "id": "Q_j3-EAzp9N2",
        "colab_type": "code",
        "colab": {
          "base_uri": "https://localhost:8080/",
          "height": 34
        },
        "outputId": "24b537b1-ef56-43e3-bee3-573c46fc3dea"
      },
      "source": [
        "print('Training took {:.2f}'.format(end_time - start_time))"
      ],
      "execution_count": 5,
      "outputs": [
        {
          "output_type": "stream",
          "text": [
            "Training took 51.10\n"
          ],
          "name": "stdout"
        }
      ]
    },
    {
      "cell_type": "code",
      "metadata": {
        "id": "szSTXnO9qExP",
        "colab_type": "code",
        "colab": {
          "base_uri": "https://localhost:8080/",
          "height": 34
        },
        "outputId": "bb886b9f-c3cb-4b5b-cc7d-92f493b1fd8d"
      },
      "source": [
        "from sklearn.metrics import accuracy_score\n",
        "\n",
        "y_pred = rnd_clf.predict(X_test)\n",
        "accuracy_score(y_test, y_pred)"
      ],
      "execution_count": 6,
      "outputs": [
        {
          "output_type": "execute_result",
          "data": {
            "text/plain": [
              "0.9705"
            ]
          },
          "metadata": {
            "tags": []
          },
          "execution_count": 6
        }
      ]
    },
    {
      "cell_type": "code",
      "metadata": {
        "id": "kZHSx-JdqON-",
        "colab_type": "code",
        "colab": {}
      },
      "source": [
        "# Using PCA\n",
        "from sklearn.decomposition import PCA\n",
        "\n",
        "pca = PCA(n_components=0.95)\n",
        "X_train_reduced = pca.fit_transform(X_train)"
      ],
      "execution_count": 7,
      "outputs": []
    },
    {
      "cell_type": "code",
      "metadata": {
        "id": "0KFlGo_LrpKs",
        "colab_type": "code",
        "colab": {}
      },
      "source": [
        "rnd_clf_pca = RandomForestClassifier(n_estimators=100, random_state=42)\n",
        "\n",
        "start_time = time.time()\n",
        "rnd_clf_pca.fit(X_train_reduced, y_train)\n",
        "end_time = time.time()"
      ],
      "execution_count": 8,
      "outputs": []
    },
    {
      "cell_type": "code",
      "metadata": {
        "id": "5_R7Akglr38Q",
        "colab_type": "code",
        "colab": {
          "base_uri": "https://localhost:8080/",
          "height": 34
        },
        "outputId": "7c03528e-b940-4a95-942d-b8683c1fa0eb"
      },
      "source": [
        "print('Training when using PCA took {:.2f}'.format(end_time - start_time))"
      ],
      "execution_count": 9,
      "outputs": [
        {
          "output_type": "stream",
          "text": [
            "Training when using PCA took 115.40\n"
          ],
          "name": "stdout"
        }
      ]
    },
    {
      "cell_type": "code",
      "metadata": {
        "id": "aOA1OVt6r6se",
        "colab_type": "code",
        "colab": {
          "base_uri": "https://localhost:8080/",
          "height": 34
        },
        "outputId": "817f7397-b943-4984-eb60-70f4aad0e441"
      },
      "source": [
        "X_test_reduced = pca.transform(X_test)\n",
        "\n",
        "y_pred = rnd_clf_pca.predict(X_test_reduced)\n",
        "accuracy_score(y_test, y_pred)"
      ],
      "execution_count": 10,
      "outputs": [
        {
          "output_type": "execute_result",
          "data": {
            "text/plain": [
              "0.9481"
            ]
          },
          "metadata": {
            "tags": []
          },
          "execution_count": 10
        }
      ]
    },
    {
      "cell_type": "code",
      "metadata": {
        "id": "tp3Y3FKUsP9q",
        "colab_type": "code",
        "colab": {}
      },
      "source": [
        "# Try Softmax regression\n",
        "from sklearn.linear_model import LogisticRegression\n",
        "\n",
        "log_clf = LogisticRegression(multi_class='multinomial', solver='lbfgs', random_state=42)"
      ],
      "execution_count": 13,
      "outputs": []
    },
    {
      "cell_type": "code",
      "metadata": {
        "id": "c1-kP4LDtOpJ",
        "colab_type": "code",
        "colab": {
          "base_uri": "https://localhost:8080/",
          "height": 176
        },
        "outputId": "b0503852-4d51-47ac-cbec-9c3abaddf3cd"
      },
      "source": [
        "start_time = time.time()\n",
        "log_clf.fit(X_train, y_train)\n",
        "end_time = time.time()"
      ],
      "execution_count": 14,
      "outputs": [
        {
          "output_type": "stream",
          "text": [
            "/usr/local/lib/python3.6/dist-packages/sklearn/linear_model/_logistic.py:940: ConvergenceWarning: lbfgs failed to converge (status=1):\n",
            "STOP: TOTAL NO. of ITERATIONS REACHED LIMIT.\n",
            "\n",
            "Increase the number of iterations (max_iter) or scale the data as shown in:\n",
            "    https://scikit-learn.org/stable/modules/preprocessing.html\n",
            "Please also refer to the documentation for alternative solver options:\n",
            "    https://scikit-learn.org/stable/modules/linear_model.html#logistic-regression\n",
            "  extra_warning_msg=_LOGISTIC_SOLVER_CONVERGENCE_MSG)\n"
          ],
          "name": "stderr"
        }
      ]
    },
    {
      "cell_type": "code",
      "metadata": {
        "id": "TbhmLENNtXy9",
        "colab_type": "code",
        "colab": {
          "base_uri": "https://localhost:8080/",
          "height": 34
        },
        "outputId": "0e1865e4-e1c2-425d-8b8c-6e7c96ed2e3c"
      },
      "source": [
        "print('Training took {:.2f}'.format(end_time - start_time))"
      ],
      "execution_count": 15,
      "outputs": [
        {
          "output_type": "stream",
          "text": [
            "Training took 33.43\n"
          ],
          "name": "stdout"
        }
      ]
    },
    {
      "cell_type": "code",
      "metadata": {
        "id": "-XYDMGcxtdra",
        "colab_type": "code",
        "colab": {
          "base_uri": "https://localhost:8080/",
          "height": 34
        },
        "outputId": "f1915213-e4e4-4fa0-899e-5865a7ece7bc"
      },
      "source": [
        "y_pred = log_clf.predict(X_test)\n",
        "accuracy_score(y_test, y_pred)"
      ],
      "execution_count": 16,
      "outputs": [
        {
          "output_type": "execute_result",
          "data": {
            "text/plain": [
              "0.9255"
            ]
          },
          "metadata": {
            "tags": []
          },
          "execution_count": 16
        }
      ]
    },
    {
      "cell_type": "code",
      "metadata": {
        "id": "2LJI6PD-tjHq",
        "colab_type": "code",
        "colab": {
          "base_uri": "https://localhost:8080/",
          "height": 176
        },
        "outputId": "80b3ead4-59d9-4909-8ee8-366c7a8eae6a"
      },
      "source": [
        "log_clf_pca = LogisticRegression(multi_class='multinomial', solver='lbfgs', random_state=42)\n",
        "start_time = time.time()\n",
        "log_clf_pca.fit(X_train_reduced, y_train)\n",
        "end_time = time.time()"
      ],
      "execution_count": 17,
      "outputs": [
        {
          "output_type": "stream",
          "text": [
            "/usr/local/lib/python3.6/dist-packages/sklearn/linear_model/_logistic.py:940: ConvergenceWarning: lbfgs failed to converge (status=1):\n",
            "STOP: TOTAL NO. of ITERATIONS REACHED LIMIT.\n",
            "\n",
            "Increase the number of iterations (max_iter) or scale the data as shown in:\n",
            "    https://scikit-learn.org/stable/modules/preprocessing.html\n",
            "Please also refer to the documentation for alternative solver options:\n",
            "    https://scikit-learn.org/stable/modules/linear_model.html#logistic-regression\n",
            "  extra_warning_msg=_LOGISTIC_SOLVER_CONVERGENCE_MSG)\n"
          ],
          "name": "stderr"
        }
      ]
    },
    {
      "cell_type": "code",
      "metadata": {
        "id": "LKDpbzA8tvU5",
        "colab_type": "code",
        "colab": {
          "base_uri": "https://localhost:8080/",
          "height": 34
        },
        "outputId": "d3bae9d7-9692-4ce2-8e2b-15e2aba5abde"
      },
      "source": [
        "print('Training when using PCA took {:.2f}'.format(end_time - start_time))"
      ],
      "execution_count": 18,
      "outputs": [
        {
          "output_type": "stream",
          "text": [
            "Training when using PCA took 10.83\n"
          ],
          "name": "stdout"
        }
      ]
    },
    {
      "cell_type": "code",
      "metadata": {
        "id": "_WU05DyctxPD",
        "colab_type": "code",
        "colab": {
          "base_uri": "https://localhost:8080/",
          "height": 34
        },
        "outputId": "2192b5c8-724a-4c2d-c33f-2b3d1beb9c4c"
      },
      "source": [
        "y_pred = rnd_clf_pca.predict(X_test_reduced)\n",
        "accuracy_score(y_test, y_pred)"
      ],
      "execution_count": 19,
      "outputs": [
        {
          "output_type": "execute_result",
          "data": {
            "text/plain": [
              "0.9481"
            ]
          },
          "metadata": {
            "tags": []
          },
          "execution_count": 19
        }
      ]
    },
    {
      "cell_type": "code",
      "metadata": {
        "id": "A79dseqPt0Ai",
        "colab_type": "code",
        "colab": {}
      },
      "source": [
        ""
      ],
      "execution_count": null,
      "outputs": []
    }
  ]
}